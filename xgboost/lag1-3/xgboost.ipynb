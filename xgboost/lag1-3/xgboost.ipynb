{
 "cells": [
  {
   "cell_type": "markdown",
   "metadata": {
    "_uuid": "f03379ee467570732ebb2b3d20062fea0584d57d"
   },
   "source": [
    "# Part 1, perfect features"
   ]
  },
  {
   "cell_type": "code",
   "execution_count": 1,
   "metadata": {
    "_cell_guid": "b1076dfc-b9ad-4769-8c92-a6c4dae69d19",
    "_uuid": "8f2839f25d086af736a60e9eeb907d3b93b6e0e5",
    "execution": {
     "iopub.execute_input": "2022-06-05T08:00:37.197648Z",
     "iopub.status.busy": "2022-06-05T08:00:37.197123Z",
     "iopub.status.idle": "2022-06-05T08:00:37.222325Z",
     "shell.execute_reply": "2022-06-05T08:00:37.221365Z",
     "shell.execute_reply.started": "2022-06-05T08:00:37.197518Z"
    }
   },
   "outputs": [
    {
     "data": {
      "text/plain": [
       "sys.version_info(major=3, minor=6, micro=5, releaselevel='final', serial=0)"
      ]
     },
     "execution_count": 1,
     "metadata": {},
     "output_type": "execute_result"
    }
   ],
   "source": [
    "import numpy as np\n",
    "import pandas as pd\n",
    "pd.set_option('display.max_rows', 500)\n",
    "pd.set_option('display.max_columns', 100)\n",
    "\n",
    "from itertools import product\n",
    "from sklearn.preprocessing import LabelEncoder\n",
    "\n",
    "import seaborn as sns\n",
    "import matplotlib.pyplot as plt\n",
    "%matplotlib inline\n",
    "\n",
    "from xgboost import XGBRegressor\n",
    "from xgboost import plot_importance\n",
    "\n",
    "def plot_features(booster, figsize):    \n",
    "    fig, ax = plt.subplots(1,1,figsize=figsize)\n",
    "    return plot_importance(booster=booster, ax=ax)\n",
    "\n",
    "import time\n",
    "import sys\n",
    "import gc\n",
    "import pickle\n",
    "sys.version_info"
   ]
  },
  {
   "cell_type": "code",
   "execution_count": 2,
   "metadata": {
    "_uuid": "f0a1c729d4fb3d6609f9dfb163ebe92fa9dc654c",
    "execution": {
     "iopub.execute_input": "2022-06-05T08:00:37.246225Z",
     "iopub.status.busy": "2022-06-05T08:00:37.245639Z",
     "iopub.status.idle": "2022-06-05T08:00:40.202205Z",
     "shell.execute_reply": "2022-06-05T08:00:40.201204Z",
     "shell.execute_reply.started": "2022-06-05T08:00:37.246175Z"
    }
   },
   "outputs": [],
   "source": [
    "items = pd.read_csv('../input/competitive-data-science-predict-future-sales/items.csv')\n",
    "shops = pd.read_csv('../input/competitive-data-science-predict-future-sales/shops.csv')\n",
    "cats = pd.read_csv('../input/competitive-data-science-predict-future-sales/item_categories.csv')\n",
    "train = pd.read_csv('../input/competitive-data-science-predict-future-sales/sales_train.csv')\n",
    "# set index to ID to avoid droping it later\n",
    "test  = pd.read_csv('../input/competitive-data-science-predict-future-sales/test.csv').set_index('ID')"
   ]
  },
  {
   "cell_type": "markdown",
   "metadata": {
    "_uuid": "ed7a190645750a818e29a6291ba2553a91764c7c"
   },
   "source": [
    "## Outliers"
   ]
  },
  {
   "cell_type": "markdown",
   "metadata": {
    "_uuid": "425d8f2dc08378977b393bf80c5fdcf0fba2c992"
   },
   "source": [
    "There are items with strange prices and sales. After detailed exploration I decided to remove items with price > 100000 and sales > 1001 (1000 is ok)."
   ]
  },
  {
   "cell_type": "code",
   "execution_count": 3,
   "metadata": {
    "_uuid": "5a864412fafc3129a3e9bd5bb1f18a7cf0c62935",
    "execution": {
     "iopub.execute_input": "2022-06-05T08:00:40.203747Z",
     "iopub.status.busy": "2022-06-05T08:00:40.203415Z",
     "iopub.status.idle": "2022-06-05T08:00:43.053245Z",
     "shell.execute_reply": "2022-06-05T08:00:43.052216Z",
     "shell.execute_reply.started": "2022-06-05T08:00:40.203705Z"
    }
   },
   "outputs": [
    {
     "data": {
      "text/plain": [
       "<matplotlib.axes._subplots.AxesSubplot at 0x7f24b503f400>"
      ]
     },
     "execution_count": 3,
     "metadata": {},
     "output_type": "execute_result"
    },
    {
     "data": {
      "image/png": "[encoded data removed]",
      "text/plain": [
       "<matplotlib.figure.Figure at 0x7f24b5866ef0>"
      ]
     },
     "metadata": {},
     "output_type": "display_data"
    },
    {
     "data": {
      "image/png": "[encoded data removed]",
      "text/plain": [
       "<matplotlib.figure.Figure at 0x7f24b506b2b0>"
      ]
     },
     "metadata": {},
     "output_type": "display_data"
    }
   ],
   "source": [
    "plt.figure(figsize=(10,4))\n",
    "plt.xlim(-100, 3000)\n",
    "sns.boxplot(x=train.item_cnt_day)\n",
    "\n",
    "plt.figure(figsize=(10,4))\n",
    "plt.xlim(train.item_price.min(), train.item_price.max()*1.1)\n",
    "sns.boxplot(x=train.item_price)"
   ]
  },
  {
   "cell_type": "code",
   "execution_count": 4,
   "metadata": {
    "_uuid": "7e621535d112603c60aeb2c2f83dbbf96d36b732",
    "execution": {
     "iopub.execute_input": "2022-06-05T08:00:43.055105Z",
     "iopub.status.busy": "2022-06-05T08:00:43.054741Z",
     "iopub.status.idle": "2022-06-05T08:00:43.370056Z",
     "shell.execute_reply": "2022-06-05T08:00:43.369112Z",
     "shell.execute_reply.started": "2022-06-05T08:00:43.055038Z"
    }
   },
   "outputs": [],
   "source": [
    "train = train[train.item_price<100000]\n",
    "train = train[train.item_cnt_day<1001]"
   ]
  },
  {
   "cell_type": "markdown",
   "metadata": {
    "_uuid": "d2f99368478e3063b1c379537944e954d7186928"
   },
   "source": [
    "There is one item with price below zero. Fill it with median."
   ]
  },
  {
   "cell_type": "code",
   "execution_count": 5,
   "metadata": {
    "_uuid": "0fc6b90b22fe232f4240ac8f965cc52b3db5526a",
    "execution": {
     "iopub.execute_input": "2022-06-05T08:00:43.371850Z",
     "iopub.status.busy": "2022-06-05T08:00:43.371513Z",
     "iopub.status.idle": "2022-06-05T08:00:43.615775Z",
     "shell.execute_reply": "2022-06-05T08:00:43.614832Z",
     "shell.execute_reply.started": "2022-06-05T08:00:43.371798Z"
    }
   },
   "outputs": [],
   "source": [
    "median = train[(train.shop_id==32)&(train.item_id==2973)&(train.date_block_num==4)&(train.item_price>0)].item_price.median()\n",
    "train.loc[train.item_price<0, 'item_price'] = median"
   ]
  },
  {
   "cell_type": "markdown",
   "metadata": {
    "_uuid": "7da194c285d696b5c6978148bf0143b9b2a7b0c5"
   },
   "source": [
    "Several shops are duplicates of each other (according to its name). Fix train and test set."
   ]
  },
  {
   "cell_type": "code",
   "execution_count": 6,
   "metadata": {
    "_uuid": "00fe91e9c482ea413abd774ff903fe3d152785dd",
    "execution": {
     "iopub.execute_input": "2022-06-05T08:00:43.617334Z",
     "iopub.status.busy": "2022-06-05T08:00:43.616984Z",
     "iopub.status.idle": "2022-06-05T08:00:43.963501Z",
     "shell.execute_reply": "2022-06-05T08:00:43.962526Z",
     "shell.execute_reply.started": "2022-06-05T08:00:43.617284Z"
    }
   },
   "outputs": [],
   "source": [
    "# Якутск Орджоникидзе, 56\n",
    "train.loc[train.shop_id == 0, 'shop_id'] = 57\n",
    "test.loc[test.shop_id == 0, 'shop_id'] = 57\n",
    "# Якутск ТЦ \"Центральный\"\n",
    "train.loc[train.shop_id == 1, 'shop_id'] = 58\n",
    "test.loc[test.shop_id == 1, 'shop_id'] = 58\n",
    "# Жуковский ул. Чкалова 39м²\n",
    "train.loc[train.shop_id == 10, 'shop_id'] = 11\n",
    "test.loc[test.shop_id == 10, 'shop_id'] = 11"
   ]
  },
  {
   "cell_type": "markdown",
   "metadata": {
    "_uuid": "a30f0521464e1fa20444e66d24bbdcb76b93f6de"
   },
   "source": [
    "## Shops/Cats/Items preprocessing\n",
    "Observations:\n",
    "* Each shop_name starts with the city name.\n",
    "* Each category contains type and subtype in its name."
   ]
  },
  {
   "cell_type": "code",
   "execution_count": 7,
   "metadata": {
    "_uuid": "12fae4c8d0c8f3e817307d1e0ffc6831e9a8d696",
    "execution": {
     "iopub.execute_input": "2022-06-05T08:00:43.965270Z",
     "iopub.status.busy": "2022-06-05T08:00:43.964886Z",
     "iopub.status.idle": "2022-06-05T08:00:44.008646Z",
     "shell.execute_reply": "2022-06-05T08:00:44.007254Z",
     "shell.execute_reply.started": "2022-06-05T08:00:43.965215Z"
    }
   },
   "outputs": [],
   "source": [
    "shops.loc[shops.shop_name == 'Сергиев Посад ТЦ \"7Я\"', 'shop_name'] = 'СергиевПосад ТЦ \"7Я\"'\n",
    "shops['city'] = shops['shop_name'].str.split(' ').map(lambda x: x[0])\n",
    "shops.loc[shops.city == '!Якутск', 'city'] = 'Якутск'\n",
    "shops['city_code'] = LabelEncoder().fit_transform(shops['city'])\n",
    "shops = shops[['shop_id','city_code']]\n",
    "\n",
    "cats['split'] = cats['item_category_name'].str.split('-')\n",
    "cats['type'] = cats['split'].map(lambda x: x[0].strip())\n",
    "cats['type_code'] = LabelEncoder().fit_transform(cats['type'])\n",
    "# if subtype is nan then type\n",
    "cats['subtype'] = cats['split'].map(lambda x: x[1].strip() if len(x) > 1 else x[0].strip())\n",
    "cats['subtype_code'] = LabelEncoder().fit_transform(cats['subtype'])\n",
    "cats = cats[['item_category_id','type_code', 'subtype_code']]\n",
    "\n",
    "items.drop(['item_name'], axis=1, inplace=True)"
   ]
  },
  {
   "cell_type": "markdown",
   "metadata": {
    "_uuid": "62c5f83fa222595da99294f465ab28e80ce415e9"
   },
   "source": [
    "## Monthly sales\n",
    "Test set is a product of some shops and some items within 34 month. There are 5100 items * 42 shops = 214200 pairs. 363 items are new compared to the train. Hence, for the most of the items in the test set target value should be zero. \n",
    "In the other hand train set contains only pairs which were sold or returned in the past. Tha main idea is to calculate monthly sales and <b>extend it with zero sales</b> for each unique pair within the month. This way train data will be similar to test data."
   ]
  },
  {
   "cell_type": "code",
   "execution_count": 8,
   "metadata": {
    "_uuid": "fb69350aef2c28cdb619e2532de1e24ab3c43899",
    "execution": {
     "iopub.execute_input": "2022-06-05T08:00:44.010351Z",
     "iopub.status.busy": "2022-06-05T08:00:44.010025Z",
     "iopub.status.idle": "2022-06-05T08:00:44.339535Z",
     "shell.execute_reply": "2022-06-05T08:00:44.338539Z",
     "shell.execute_reply.started": "2022-06-05T08:00:44.010293Z"
    }
   },
   "outputs": [
    {
     "data": {
      "text/plain": [
       "(363, 5100, 214200)"
      ]
     },
     "execution_count": 8,
     "metadata": {},
     "output_type": "execute_result"
    }
   ],
   "source": [
    "len(list(set(test.item_id) - set(test.item_id).intersection(set(train.item_id)))), len(list(set(test.item_id))), len(test)"
   ]
  },
  {
   "cell_type": "code",
   "execution_count": 9,
   "metadata": {
    "_uuid": "7626c7455ea71b65894c6c866519df15080fa2ac",
    "execution": {
     "iopub.execute_input": "2022-06-05T08:00:44.342239Z",
     "iopub.status.busy": "2022-06-05T08:00:44.341897Z",
     "iopub.status.idle": "2022-06-05T08:00:58.773693Z",
     "shell.execute_reply": "2022-06-05T08:00:58.772346Z",
     "shell.execute_reply.started": "2022-06-05T08:00:44.342173Z"
    }
   },
   "outputs": [
    {
     "data": {
      "text/plain": [
       "20.322412729263306"
      ]
     },
     "execution_count": 9,
     "metadata": {},
     "output_type": "execute_result"
    }
   ],
   "source": [
    "ts = time.time()\n",
    "matrix = []\n",
    "cols = ['date_block_num','shop_id','item_id']\n",
    "for i in range(34):\n",
    "    sales = train[train.date_block_num==i]\n",
    "    matrix.append(np.array(list(product([i], sales.shop_id.unique(), sales.item_id.unique())), dtype='int16'))\n",
    "    \n",
    "matrix = pd.DataFrame(np.vstack(matrix), columns=cols)\n",
    "matrix['date_block_num'] = matrix['date_block_num'].astype(np.int8)\n",
    "matrix['shop_id'] = matrix['shop_id'].astype(np.int8)\n",
    "matrix['item_id'] = matrix['item_id'].astype(np.int16)\n",
    "matrix.sort_values(cols,inplace=True)\n",
    "time.time() - ts"
   ]
  },
  {
   "cell_type": "markdown",
   "metadata": {
    "_uuid": "867e91a7570dd78b4834f4f1a166e58f80b63f93"
   },
   "source": [
    "Aggregate train set by shop/item pairs to calculate target aggreagates, then <b>clip(0,20)</b> target value. This way train target will be similar to the test predictions.\n",
    "\n",
    "<i>I use floats instead of ints for item_cnt_month to avoid downcasting it after concatination with the test set later. If it would be int16, after concatination with NaN values it becomes int64, but foat16 becomes float16 even with NaNs.</i>"
   ]
  },
  {
   "cell_type": "code",
   "execution_count": 10,
   "metadata": {
    "_uuid": "9fef5477060be7d2e6c85dcb79d8e18e6253f7dd",
    "execution": {
     "iopub.execute_input": "2022-06-05T08:00:58.775628Z",
     "iopub.status.busy": "2022-06-05T08:00:58.775268Z",
     "iopub.status.idle": "2022-06-05T08:00:59.122505Z",
     "shell.execute_reply": "2022-06-05T08:00:59.121441Z",
     "shell.execute_reply.started": "2022-06-05T08:00:58.775558Z"
    }
   },
   "outputs": [],
   "source": [
    "train['revenue'] = train['item_price'] *  train['item_cnt_day']"
   ]
  },
  {
   "cell_type": "code",
   "execution_count": 11,
   "metadata": {
    "_uuid": "7dd27181918fc7df89676e24d72130d183929d2d",
    "execution": {
     "iopub.execute_input": "2022-06-05T08:00:59.125945Z",
     "iopub.status.busy": "2022-06-05T08:00:59.125524Z",
     "iopub.status.idle": "2022-06-05T08:01:05.509968Z",
     "shell.execute_reply": "2022-06-05T08:01:05.509091Z",
     "shell.execute_reply.started": "2022-06-05T08:00:59.125866Z"
    }
   },
   "outputs": [
    {
     "data": {
      "text/plain": [
       "13.978957176208496"
      ]
     },
     "execution_count": 11,
     "metadata": {},
     "output_type": "execute_result"
    }
   ],
   "source": [
    "ts = time.time()\n",
    "group = train.groupby(['date_block_num','shop_id','item_id']).agg({'item_cnt_day': ['sum']})\n",
    "group.columns = ['item_cnt_month']\n",
    "group.reset_index(inplace=True)\n",
    "\n",
    "matrix = pd.merge(matrix, group, on=cols, how='left')\n",
    "matrix['item_cnt_month'] = (matrix['item_cnt_month']\n",
    "                                .fillna(0)\n",
    "                                .clip(0,20) # NB clip target here\n",
    "                                .astype(np.float16))\n",
    "time.time() - ts"
   ]
  },
  {
   "cell_type": "markdown",
   "metadata": {
    "execution": {
     "iopub.execute_input": "2022-06-03T10:33:50.242746Z",
     "iopub.status.busy": "2022-06-03T10:33:50.242403Z",
     "iopub.status.idle": "2022-06-03T10:33:50.317043Z",
     "shell.execute_reply": "2022-06-03T10:33:50.316033Z",
     "shell.execute_reply.started": "2022-06-03T10:33:50.242684Z"
    }
   },
   "source": [
    "group"
   ]
  },
  {
   "cell_type": "markdown",
   "metadata": {
    "_uuid": "315bc6107a93f3926a64fd09ea9244e9281ee41f"
   },
   "source": [
    "## Test set\n",
    "To use time tricks append test pairs to the matrix."
   ]
  },
  {
   "cell_type": "code",
   "execution_count": 12,
   "metadata": {
    "_uuid": "29d02bdb4fa768577607bf735b918ca81da85d41",
    "execution": {
     "iopub.execute_input": "2022-06-05T08:01:05.511684Z",
     "iopub.status.busy": "2022-06-05T08:01:05.511366Z",
     "iopub.status.idle": "2022-06-05T08:01:05.523974Z",
     "shell.execute_reply": "2022-06-05T08:01:05.522896Z",
     "shell.execute_reply.started": "2022-06-05T08:01:05.511631Z"
    }
   },
   "outputs": [],
   "source": [
    "test['date_block_num'] = 34\n",
    "test['date_block_num'] = test['date_block_num'].astype(np.int8)\n",
    "test['shop_id'] = test['shop_id'].astype(np.int8)\n",
    "test['item_id'] = test['item_id'].astype(np.int16)"
   ]
  },
  {
   "cell_type": "code",
   "execution_count": 13,
   "metadata": {
    "_uuid": "177fbbab94c8057d67d61357d29581248468a74d",
    "execution": {
     "iopub.execute_input": "2022-06-05T08:01:05.525838Z",
     "iopub.status.busy": "2022-06-05T08:01:05.525434Z",
     "iopub.status.idle": "2022-06-05T08:01:05.636192Z",
     "shell.execute_reply": "2022-06-05T08:01:05.635217Z",
     "shell.execute_reply.started": "2022-06-05T08:01:05.525707Z"
    }
   },
   "outputs": [
    {
     "data": {
      "text/plain": [
       "0.26700568199157715"
      ]
     },
     "execution_count": 13,
     "metadata": {},
     "output_type": "execute_result"
    }
   ],
   "source": [
    "ts = time.time()\n",
    "matrix = pd.concat([matrix, test], ignore_index=True, sort=False, keys=cols)\n",
    "matrix.fillna(0, inplace=True) # 34 month\n",
    "time.time() - ts"
   ]
  },
  {
   "cell_type": "markdown",
   "metadata": {
    "_uuid": "233e394a6cebf36ef002dc76fef8d430026a52b3"
   },
   "source": [
    "## Shops/Items/Cats features"
   ]
  },
  {
   "cell_type": "code",
   "execution_count": 14,
   "metadata": {
    "_uuid": "7dfd5df3e2bcaee4c312f3979736f52c40f2560f",
    "execution": {
     "iopub.execute_input": "2022-06-05T08:01:05.637989Z",
     "iopub.status.busy": "2022-06-05T08:01:05.637589Z",
     "iopub.status.idle": "2022-06-05T08:01:12.504854Z",
     "shell.execute_reply": "2022-06-05T08:01:12.503924Z",
     "shell.execute_reply.started": "2022-06-05T08:01:05.637883Z"
    }
   },
   "outputs": [
    {
     "data": {
      "text/plain": [
       "14.036374807357788"
      ]
     },
     "execution_count": 14,
     "metadata": {},
     "output_type": "execute_result"
    }
   ],
   "source": [
    "ts = time.time()\n",
    "matrix = pd.merge(matrix, shops, on=['shop_id'], how='left')\n",
    "matrix = pd.merge(matrix, items, on=['item_id'], how='left')\n",
    "matrix = pd.merge(matrix, cats, on=['item_category_id'], how='left')\n",
    "matrix['city_code'] = matrix['city_code'].astype(np.int8)\n",
    "matrix['item_category_id'] = matrix['item_category_id'].astype(np.int8)\n",
    "matrix['type_code'] = matrix['type_code'].astype(np.int8)\n",
    "matrix['subtype_code'] = matrix['subtype_code'].astype(np.int8)\n",
    "time.time() - ts"
   ]
  },
  {
   "cell_type": "markdown",
   "metadata": {
    "_uuid": "8358b291fdc8e0e7d1b5700974803b3f104715f7"
   },
   "source": [
    "## Traget lags"
   ]
  },
  {
   "cell_type": "code",
   "execution_count": 15,
   "metadata": {
    "_uuid": "9cd7bcc7643ce4545475e8e6f80d09a979aac42d",
    "execution": {
     "iopub.execute_input": "2022-06-05T08:01:12.507049Z",
     "iopub.status.busy": "2022-06-05T08:01:12.506551Z",
     "iopub.status.idle": "2022-06-05T08:01:12.517299Z",
     "shell.execute_reply": "2022-06-05T08:01:12.516282Z",
     "shell.execute_reply.started": "2022-06-05T08:01:12.506973Z"
    }
   },
   "outputs": [],
   "source": [
    "def lag_feature(df, lags, col):\n",
    "    tmp = df[['date_block_num','shop_id','item_id',col]]\n",
    "    for i in lags:\n",
    "        shifted = tmp.copy()\n",
    "        shifted.columns = ['date_block_num','shop_id','item_id', col+'_lag_'+str(i)]\n",
    "        shifted['date_block_num'] += i\n",
    "        df = pd.merge(df, shifted, on=['date_block_num','shop_id','item_id'], how='left')\n",
    "    return df"
   ]
  },
  {
   "cell_type": "code",
   "execution_count": 16,
   "metadata": {
    "_uuid": "78bf7ece93ebc4629ad0e48cd6a9927788d8706d",
    "execution": {
     "iopub.execute_input": "2022-06-05T08:01:12.519285Z",
     "iopub.status.busy": "2022-06-05T08:01:12.518917Z",
     "iopub.status.idle": "2022-06-05T08:01:56.472550Z",
     "shell.execute_reply": "2022-06-05T08:01:56.471541Z",
     "shell.execute_reply.started": "2022-06-05T08:01:12.519221Z"
    }
   },
   "outputs": [
    {
     "data": {
      "text/plain": [
       "52.20309281349182"
      ]
     },
     "execution_count": 16,
     "metadata": {},
     "output_type": "execute_result"
    }
   ],
   "source": [
    "ts = time.time()\n",
    "matrix = lag_feature(matrix, [1,2,3,6,12], 'item_cnt_month')\n",
    "time.time() - ts"
   ]
  },
  {
   "cell_type": "markdown",
   "metadata": {
    "_uuid": "c67bf4dbcef884ffe9d19c65d37bc4de1f287ef6"
   },
   "source": [
    "## Mean encoded features"
   ]
  },
  {
   "cell_type": "code",
   "execution_count": 17,
   "metadata": {
    "_uuid": "763aca242154ea10fa0a62fffadb4ef90e9532d6",
    "execution": {
     "iopub.execute_input": "2022-06-05T08:01:56.474182Z",
     "iopub.status.busy": "2022-06-05T08:01:56.473943Z",
     "iopub.status.idle": "2022-06-05T08:02:11.603849Z",
     "shell.execute_reply": "2022-06-05T08:02:11.602839Z",
     "shell.execute_reply.started": "2022-06-05T08:01:56.474150Z"
    }
   },
   "outputs": [
    {
     "data": {
      "text/plain": [
       "18.46036148071289"
      ]
     },
     "execution_count": 17,
     "metadata": {},
     "output_type": "execute_result"
    }
   ],
   "source": [
    "ts = time.time()\n",
    "group = matrix.groupby(['date_block_num']).agg({'item_cnt_month': ['mean']})\n",
    "group.columns = [ 'date_avg_item_cnt' ]\n",
    "group.reset_index(inplace=True)\n",
    "\n",
    "matrix = pd.merge(matrix, group, on=['date_block_num'], how='left')\n",
    "matrix['date_avg_item_cnt'] = matrix['date_avg_item_cnt'].astype(np.float16)\n",
    "matrix = lag_feature(matrix, [1], 'date_avg_item_cnt')\n",
    "matrix.drop(['date_avg_item_cnt'], axis=1, inplace=True)\n",
    "time.time() - ts"
   ]
  },
  {
   "cell_type": "code",
   "execution_count": 18,
   "metadata": {
    "_uuid": "fc9166c4e678ebb99d03566f1751b7d4b5c690d2",
    "execution": {
     "iopub.execute_input": "2022-06-05T08:02:11.605837Z",
     "iopub.status.busy": "2022-06-05T08:02:11.605384Z",
     "iopub.status.idle": "2022-06-05T08:03:06.340895Z",
     "shell.execute_reply": "2022-06-05T08:03:06.339850Z",
     "shell.execute_reply.started": "2022-06-05T08:02:11.605764Z"
    }
   },
   "outputs": [
    {
     "data": {
      "text/plain": [
       "64.52279376983643"
      ]
     },
     "execution_count": 18,
     "metadata": {},
     "output_type": "execute_result"
    }
   ],
   "source": [
    "ts = time.time()\n",
    "group = matrix.groupby(['date_block_num', 'item_id']).agg({'item_cnt_month': ['mean']})\n",
    "group.columns = [ 'date_item_avg_item_cnt' ]\n",
    "group.reset_index(inplace=True)\n",
    "\n",
    "matrix = pd.merge(matrix, group, on=['date_block_num','item_id'], how='left')\n",
    "matrix['date_item_avg_item_cnt'] = matrix['date_item_avg_item_cnt'].astype(np.float16)\n",
    "matrix = lag_feature(matrix, [1,2,3,6,12], 'date_item_avg_item_cnt')\n",
    "matrix.drop(['date_item_avg_item_cnt'], axis=1, inplace=True)\n",
    "time.time() - ts"
   ]
  },
  {
   "cell_type": "code",
   "execution_count": 19,
   "metadata": {
    "_uuid": "73f2552c403c5f67bbf07f28d69efcc015d00f32",
    "execution": {
     "iopub.execute_input": "2022-06-05T08:03:06.342539Z",
     "iopub.status.busy": "2022-06-05T08:03:06.342223Z",
     "iopub.status.idle": "2022-06-05T08:04:03.879823Z",
     "shell.execute_reply": "2022-06-05T08:04:03.878807Z",
     "shell.execute_reply.started": "2022-06-05T08:03:06.342483Z"
    }
   },
   "outputs": [
    {
     "data": {
      "text/plain": [
       "68.09922862052917"
      ]
     },
     "execution_count": 19,
     "metadata": {},
     "output_type": "execute_result"
    }
   ],
   "source": [
    "ts = time.time()\n",
    "group = matrix.groupby(['date_block_num', 'shop_id']).agg({'item_cnt_month': ['mean']})\n",
    "group.columns = [ 'date_shop_avg_item_cnt' ]\n",
    "group.reset_index(inplace=True)\n",
    "\n",
    "matrix = pd.merge(matrix, group, on=['date_block_num','shop_id'], how='left')\n",
    "matrix['date_shop_avg_item_cnt'] = matrix['date_shop_avg_item_cnt'].astype(np.float16)\n",
    "matrix = lag_feature(matrix, [1,2,3,6,12], 'date_shop_avg_item_cnt')\n",
    "matrix.drop(['date_shop_avg_item_cnt'], axis=1, inplace=True)\n",
    "time.time() - ts"
   ]
  },
  {
   "cell_type": "code",
   "execution_count": 20,
   "metadata": {
    "_uuid": "c3948a9b206bc480b31385c29a713aa49747de19",
    "execution": {
     "iopub.execute_input": "2022-06-05T08:04:03.881383Z",
     "iopub.status.busy": "2022-06-05T08:04:03.881133Z",
     "iopub.status.idle": "2022-06-05T08:04:25.983891Z",
     "shell.execute_reply": "2022-06-05T08:04:25.983001Z",
     "shell.execute_reply.started": "2022-06-05T08:04:03.881343Z"
    }
   },
   "outputs": [
    {
     "data": {
      "text/plain": [
       "26.197163343429565"
      ]
     },
     "execution_count": 20,
     "metadata": {},
     "output_type": "execute_result"
    }
   ],
   "source": [
    "ts = time.time()\n",
    "group = matrix.groupby(['date_block_num', 'item_category_id']).agg({'item_cnt_month': ['mean']})\n",
    "group.columns = [ 'date_cat_avg_item_cnt' ]\n",
    "group.reset_index(inplace=True)\n",
    "\n",
    "matrix = pd.merge(matrix, group, on=['date_block_num','item_category_id'], how='left')\n",
    "matrix['date_cat_avg_item_cnt'] = matrix['date_cat_avg_item_cnt'].astype(np.float16)\n",
    "matrix = lag_feature(matrix, [1], 'date_cat_avg_item_cnt')\n",
    "matrix.drop(['date_cat_avg_item_cnt'], axis=1, inplace=True)\n",
    "time.time() - ts"
   ]
  },
  {
   "cell_type": "code",
   "execution_count": 21,
   "metadata": {
    "_uuid": "bf98335755692f0d7666eeac2db1961692f09a16",
    "execution": {
     "iopub.execute_input": "2022-06-05T08:04:25.985401Z",
     "iopub.status.busy": "2022-06-05T08:04:25.985134Z",
     "iopub.status.idle": "2022-06-05T08:04:49.787682Z",
     "shell.execute_reply": "2022-06-05T08:04:49.786775Z",
     "shell.execute_reply.started": "2022-06-05T08:04:25.985359Z"
    }
   },
   "outputs": [
    {
     "data": {
      "text/plain": [
       "28.59437894821167"
      ]
     },
     "execution_count": 21,
     "metadata": {},
     "output_type": "execute_result"
    }
   ],
   "source": [
    "ts = time.time()\n",
    "group = matrix.groupby(['date_block_num', 'shop_id', 'item_category_id']).agg({'item_cnt_month': ['mean']})\n",
    "group.columns = ['date_shop_cat_avg_item_cnt']\n",
    "group.reset_index(inplace=True)\n",
    "\n",
    "matrix = pd.merge(matrix, group, on=['date_block_num', 'shop_id', 'item_category_id'], how='left')\n",
    "matrix['date_shop_cat_avg_item_cnt'] = matrix['date_shop_cat_avg_item_cnt'].astype(np.float16)\n",
    "matrix = lag_feature(matrix, [1], 'date_shop_cat_avg_item_cnt')\n",
    "matrix.drop(['date_shop_cat_avg_item_cnt'], axis=1, inplace=True)\n",
    "time.time() - ts"
   ]
  },
  {
   "cell_type": "code",
   "execution_count": 22,
   "metadata": {
    "_uuid": "3959603ea684eb3cbfd17d557399caa6e9da88e4",
    "execution": {
     "iopub.execute_input": "2022-06-05T08:04:49.789284Z",
     "iopub.status.busy": "2022-06-05T08:04:49.788974Z",
     "iopub.status.idle": "2022-06-05T08:05:14.135418Z",
     "shell.execute_reply": "2022-06-05T08:05:14.134494Z",
     "shell.execute_reply.started": "2022-06-05T08:04:49.789228Z"
    }
   },
   "outputs": [
    {
     "data": {
      "text/plain": [
       "28.363313913345337"
      ]
     },
     "execution_count": 22,
     "metadata": {},
     "output_type": "execute_result"
    }
   ],
   "source": [
    "ts = time.time()\n",
    "group = matrix.groupby(['date_block_num', 'shop_id', 'type_code']).agg({'item_cnt_month': ['mean']})\n",
    "group.columns = ['date_shop_type_avg_item_cnt']\n",
    "group.reset_index(inplace=True)\n",
    "\n",
    "matrix = pd.merge(matrix, group, on=['date_block_num', 'shop_id', 'type_code'], how='left')\n",
    "matrix['date_shop_type_avg_item_cnt'] = matrix['date_shop_type_avg_item_cnt'].astype(np.float16)\n",
    "matrix = lag_feature(matrix, [1], 'date_shop_type_avg_item_cnt')\n",
    "matrix.drop(['date_shop_type_avg_item_cnt'], axis=1, inplace=True)\n",
    "time.time() - ts"
   ]
  },
  {
   "cell_type": "code",
   "execution_count": 23,
   "metadata": {
    "_uuid": "39f66d2e30f691237aa5d41ff9fc3a0eb7e9a788",
    "execution": {
     "iopub.execute_input": "2022-06-05T08:05:14.137264Z",
     "iopub.status.busy": "2022-06-05T08:05:14.136865Z",
     "iopub.status.idle": "2022-06-05T08:05:39.215653Z",
     "shell.execute_reply": "2022-06-05T08:05:39.214754Z",
     "shell.execute_reply.started": "2022-06-05T08:05:14.137189Z"
    }
   },
   "outputs": [
    {
     "data": {
      "text/plain": [
       "29.91422414779663"
      ]
     },
     "execution_count": 23,
     "metadata": {},
     "output_type": "execute_result"
    }
   ],
   "source": [
    "ts = time.time()\n",
    "group = matrix.groupby(['date_block_num', 'shop_id', 'subtype_code']).agg({'item_cnt_month': ['mean']})\n",
    "group.columns = ['date_shop_subtype_avg_item_cnt']\n",
    "group.reset_index(inplace=True)\n",
    "\n",
    "matrix = pd.merge(matrix, group, on=['date_block_num', 'shop_id', 'subtype_code'], how='left')\n",
    "matrix['date_shop_subtype_avg_item_cnt'] = matrix['date_shop_subtype_avg_item_cnt'].astype(np.float16)\n",
    "matrix = lag_feature(matrix, [1], 'date_shop_subtype_avg_item_cnt')\n",
    "matrix.drop(['date_shop_subtype_avg_item_cnt'], axis=1, inplace=True)\n",
    "time.time() - ts"
   ]
  },
  {
   "cell_type": "code",
   "execution_count": 24,
   "metadata": {
    "_uuid": "87d57d01beb0830138dabae79b4022d4c6a9cc12",
    "execution": {
     "iopub.execute_input": "2022-06-05T08:05:39.217578Z",
     "iopub.status.busy": "2022-06-05T08:05:39.217125Z",
     "iopub.status.idle": "2022-06-05T08:06:04.456403Z",
     "shell.execute_reply": "2022-06-05T08:06:04.455427Z",
     "shell.execute_reply.started": "2022-06-05T08:05:39.217517Z"
    }
   },
   "outputs": [
    {
     "data": {
      "text/plain": [
       "29.37057876586914"
      ]
     },
     "execution_count": 24,
     "metadata": {},
     "output_type": "execute_result"
    }
   ],
   "source": [
    "ts = time.time()\n",
    "group = matrix.groupby(['date_block_num', 'city_code']).agg({'item_cnt_month': ['mean']})\n",
    "group.columns = [ 'date_city_avg_item_cnt' ]\n",
    "group.reset_index(inplace=True)\n",
    "\n",
    "matrix = pd.merge(matrix, group, on=['date_block_num', 'city_code'], how='left')\n",
    "matrix['date_city_avg_item_cnt'] = matrix['date_city_avg_item_cnt'].astype(np.float16)\n",
    "matrix = lag_feature(matrix, [1], 'date_city_avg_item_cnt')\n",
    "matrix.drop(['date_city_avg_item_cnt'], axis=1, inplace=True)\n",
    "time.time() - ts"
   ]
  },
  {
   "cell_type": "code",
   "execution_count": 25,
   "metadata": {
    "_uuid": "db1f0170ec4a6fd9894bc53b36f3166d4b26abcf",
    "execution": {
     "iopub.execute_input": "2022-06-05T08:06:04.458005Z",
     "iopub.status.busy": "2022-06-05T08:06:04.457698Z",
     "iopub.status.idle": "2022-06-05T08:06:38.475318Z",
     "shell.execute_reply": "2022-06-05T08:06:38.474455Z",
     "shell.execute_reply.started": "2022-06-05T08:06:04.457961Z"
    }
   },
   "outputs": [
    {
     "data": {
      "text/plain": [
       "39.89835333824158"
      ]
     },
     "execution_count": 25,
     "metadata": {},
     "output_type": "execute_result"
    }
   ],
   "source": [
    "ts = time.time()\n",
    "group = matrix.groupby(['date_block_num', 'item_id', 'city_code']).agg({'item_cnt_month': ['mean']})\n",
    "group.columns = [ 'date_item_city_avg_item_cnt' ]\n",
    "group.reset_index(inplace=True)\n",
    "\n",
    "matrix = pd.merge(matrix, group, on=['date_block_num', 'item_id', 'city_code'], how='left')\n",
    "matrix['date_item_city_avg_item_cnt'] = matrix['date_item_city_avg_item_cnt'].astype(np.float16)\n",
    "matrix = lag_feature(matrix, [1], 'date_item_city_avg_item_cnt')\n",
    "matrix.drop(['date_item_city_avg_item_cnt'], axis=1, inplace=True)\n",
    "time.time() - ts"
   ]
  },
  {
   "cell_type": "code",
   "execution_count": 26,
   "metadata": {
    "_uuid": "3cd5232ad63357dacebe9d223cc93dd669132bb7",
    "execution": {
     "iopub.execute_input": "2022-06-05T08:06:38.476926Z",
     "iopub.status.busy": "2022-06-05T08:06:38.476651Z",
     "iopub.status.idle": "2022-06-05T08:07:04.567041Z",
     "shell.execute_reply": "2022-06-05T08:07:04.566165Z",
     "shell.execute_reply.started": "2022-06-05T08:06:38.476862Z"
    }
   },
   "outputs": [
    {
     "data": {
      "text/plain": [
       "30.61828851699829"
      ]
     },
     "execution_count": 26,
     "metadata": {},
     "output_type": "execute_result"
    }
   ],
   "source": [
    "ts = time.time()\n",
    "group = matrix.groupby(['date_block_num', 'type_code']).agg({'item_cnt_month': ['mean']})\n",
    "group.columns = [ 'date_type_avg_item_cnt' ]\n",
    "group.reset_index(inplace=True)\n",
    "\n",
    "matrix = pd.merge(matrix, group, on=['date_block_num', 'type_code'], how='left')\n",
    "matrix['date_type_avg_item_cnt'] = matrix['date_type_avg_item_cnt'].astype(np.float16)\n",
    "matrix = lag_feature(matrix, [1], 'date_type_avg_item_cnt')\n",
    "matrix.drop(['date_type_avg_item_cnt'], axis=1, inplace=True)\n",
    "time.time() - ts"
   ]
  },
  {
   "cell_type": "code",
   "execution_count": 27,
   "metadata": {
    "_uuid": "00394f3694ae9c7093176eadac7abeaa79ff5467",
    "execution": {
     "iopub.execute_input": "2022-06-05T08:07:04.568990Z",
     "iopub.status.busy": "2022-06-05T08:07:04.568606Z",
     "iopub.status.idle": "2022-06-05T08:07:31.417215Z",
     "shell.execute_reply": "2022-06-05T08:07:31.416297Z",
     "shell.execute_reply.started": "2022-06-05T08:07:04.568897Z"
    }
   },
   "outputs": [
    {
     "data": {
      "text/plain": [
       "31.712647199630737"
      ]
     },
     "execution_count": 27,
     "metadata": {},
     "output_type": "execute_result"
    }
   ],
   "source": [
    "ts = time.time()\n",
    "group = matrix.groupby(['date_block_num', 'subtype_code']).agg({'item_cnt_month': ['mean']})\n",
    "group.columns = [ 'date_subtype_avg_item_cnt' ]\n",
    "group.reset_index(inplace=True)\n",
    "\n",
    "matrix = pd.merge(matrix, group, on=['date_block_num', 'subtype_code'], how='left')\n",
    "matrix['date_subtype_avg_item_cnt'] = matrix['date_subtype_avg_item_cnt'].astype(np.float16)\n",
    "matrix = lag_feature(matrix, [1], 'date_subtype_avg_item_cnt')\n",
    "matrix.drop(['date_subtype_avg_item_cnt'], axis=1, inplace=True)\n",
    "time.time() - ts"
   ]
  },
  {
   "cell_type": "markdown",
   "metadata": {
    "_uuid": "6bcea31d93ab035ca3fa1ed7c0afddbf602c414a"
   },
   "source": [
    "## Trend features"
   ]
  },
  {
   "cell_type": "markdown",
   "metadata": {
    "_uuid": "0504e9613087237c255914d9ebd165fac4e88cd0"
   },
   "source": [
    "Price trend for the last six months."
   ]
  },
  {
   "cell_type": "code",
   "execution_count": 28,
   "metadata": {
    "_uuid": "0da2ded8502e273137991fd2bebbadaf19c19622",
    "execution": {
     "iopub.execute_input": "2022-06-05T08:07:31.418874Z",
     "iopub.status.busy": "2022-06-05T08:07:31.418606Z",
     "iopub.status.idle": "2022-06-05T08:13:32.849806Z",
     "shell.execute_reply": "2022-06-05T08:13:32.848741Z",
     "shell.execute_reply.started": "2022-06-05T08:07:31.418831Z"
    }
   },
   "outputs": [
    {
     "data": {
      "text/plain": [
       "499.10936641693115"
      ]
     },
     "execution_count": 28,
     "metadata": {},
     "output_type": "execute_result"
    }
   ],
   "source": [
    "ts = time.time()\n",
    "group = train.groupby(['item_id']).agg({'item_price': ['mean']})\n",
    "group.columns = ['item_avg_item_price']\n",
    "group.reset_index(inplace=True)\n",
    "\n",
    "matrix = pd.merge(matrix, group, on=['item_id'], how='left')\n",
    "matrix['item_avg_item_price'] = matrix['item_avg_item_price'].astype(np.float16)\n",
    "\n",
    "group = train.groupby(['date_block_num','item_id']).agg({'item_price': ['mean']})\n",
    "group.columns = ['date_item_avg_item_price']\n",
    "group.reset_index(inplace=True)\n",
    "\n",
    "matrix = pd.merge(matrix, group, on=['date_block_num','item_id'], how='left')\n",
    "matrix['date_item_avg_item_price'] = matrix['date_item_avg_item_price'].astype(np.float16)\n",
    "\n",
    "lags = [1,2,3,4,5,6]\n",
    "matrix = lag_feature(matrix, lags, 'date_item_avg_item_price')\n",
    "\n",
    "for i in lags:\n",
    "    matrix['delta_price_lag_'+str(i)] = \\\n",
    "        (matrix['date_item_avg_item_price_lag_'+str(i)] - matrix['item_avg_item_price']) / matrix['item_avg_item_price']\n",
    "\n",
    "def select_trend(row):\n",
    "    for i in lags:\n",
    "        if row['delta_price_lag_'+str(i)]:\n",
    "            return row['delta_price_lag_'+str(i)]\n",
    "    return 0\n",
    "    \n",
    "matrix['delta_price_lag'] = matrix.apply(select_trend, axis=1)\n",
    "matrix['delta_price_lag'] = matrix['delta_price_lag'].astype(np.float16)\n",
    "matrix['delta_price_lag'].fillna(0, inplace=True)\n",
    "\n",
    "# https://stackoverflow.com/questions/31828240/first-non-null-value-per-row-from-a-list-of-pandas-columns/31828559\n",
    "# matrix['price_trend'] = matrix[['delta_price_lag_1','delta_price_lag_2','delta_price_lag_3']].bfill(axis=1).iloc[:, 0]\n",
    "# Invalid dtype for backfill_2d [float16]\n",
    "\n",
    "fetures_to_drop = ['item_avg_item_price', 'date_item_avg_item_price']\n",
    "for i in lags:\n",
    "    fetures_to_drop += ['date_item_avg_item_price_lag_'+str(i)]\n",
    "    fetures_to_drop += ['delta_price_lag_'+str(i)]\n",
    "\n",
    "matrix.drop(fetures_to_drop, axis=1, inplace=True)\n",
    "\n",
    "time.time() - ts"
   ]
  },
  {
   "cell_type": "markdown",
   "metadata": {
    "_uuid": "17765ddb48f52abd88847a42c0a3ffe974e5b121"
   },
   "source": [
    "Last month shop revenue trend"
   ]
  },
  {
   "cell_type": "code",
   "execution_count": 29,
   "metadata": {
    "_uuid": "e633be47f1a22b41487866ce67fb874bd296339e",
    "execution": {
     "iopub.execute_input": "2022-06-05T08:13:32.852480Z",
     "iopub.status.busy": "2022-06-05T08:13:32.852034Z",
     "iopub.status.idle": "2022-06-05T08:14:04.665953Z",
     "shell.execute_reply": "2022-06-05T08:14:04.664884Z",
     "shell.execute_reply.started": "2022-06-05T08:13:32.852402Z"
    }
   },
   "outputs": [
    {
     "data": {
      "text/plain": [
       "38.28737711906433"
      ]
     },
     "execution_count": 29,
     "metadata": {},
     "output_type": "execute_result"
    }
   ],
   "source": [
    "ts = time.time()\n",
    "group = train.groupby(['date_block_num','shop_id']).agg({'revenue': ['sum']})\n",
    "group.columns = ['date_shop_revenue']\n",
    "group.reset_index(inplace=True)\n",
    "\n",
    "matrix = pd.merge(matrix, group, on=['date_block_num','shop_id'], how='left')\n",
    "matrix['date_shop_revenue'] = matrix['date_shop_revenue'].astype(np.float32)\n",
    "\n",
    "group = group.groupby(['shop_id']).agg({'date_shop_revenue': ['mean']})\n",
    "group.columns = ['shop_avg_revenue']\n",
    "group.reset_index(inplace=True)\n",
    "\n",
    "matrix = pd.merge(matrix, group, on=['shop_id'], how='left')\n",
    "matrix['shop_avg_revenue'] = matrix['shop_avg_revenue'].astype(np.float32)\n",
    "\n",
    "matrix['delta_revenue'] = (matrix['date_shop_revenue'] - matrix['shop_avg_revenue']) / matrix['shop_avg_revenue']\n",
    "matrix['delta_revenue'] = matrix['delta_revenue'].astype(np.float16)\n",
    "\n",
    "matrix = lag_feature(matrix, [1], 'delta_revenue')\n",
    "\n",
    "matrix.drop(['date_shop_revenue','shop_avg_revenue','delta_revenue'], axis=1, inplace=True)\n",
    "time.time() - ts"
   ]
  },
  {
   "cell_type": "markdown",
   "metadata": {
    "_uuid": "47e06af411b7d26cd93dad3d6735e48e5fbdee50"
   },
   "source": [
    "## Special features"
   ]
  },
  {
   "cell_type": "code",
   "execution_count": 30,
   "metadata": {
    "_uuid": "bb521e1f33d4124a3b90b47447bdb29150770b6e",
    "execution": {
     "iopub.execute_input": "2022-06-05T08:14:04.667488Z",
     "iopub.status.busy": "2022-06-05T08:14:04.667126Z",
     "iopub.status.idle": "2022-06-05T08:14:04.727772Z",
     "shell.execute_reply": "2022-06-05T08:14:04.727044Z",
     "shell.execute_reply.started": "2022-06-05T08:14:04.667436Z"
    }
   },
   "outputs": [],
   "source": [
    "matrix['month'] = matrix['date_block_num'] % 12"
   ]
  },
  {
   "cell_type": "markdown",
   "metadata": {
    "_uuid": "b4dc4d2ff86483989c4b74fc02a0d01ca68a5c75"
   },
   "source": [
    "Number of days in a month. There are no leap years."
   ]
  },
  {
   "cell_type": "code",
   "execution_count": 31,
   "metadata": {
    "_uuid": "e23f0201056b73368e3b70d4c36c6bb9e4a55291",
    "execution": {
     "iopub.execute_input": "2022-06-05T08:14:04.729089Z",
     "iopub.status.busy": "2022-06-05T08:14:04.728711Z",
     "iopub.status.idle": "2022-06-05T08:14:04.996848Z",
     "shell.execute_reply": "2022-06-05T08:14:04.996150Z",
     "shell.execute_reply.started": "2022-06-05T08:14:04.729036Z"
    }
   },
   "outputs": [],
   "source": [
    "days = pd.Series([31,28,31,30,31,30,31,31,30,31,30,31])\n",
    "matrix['days'] = matrix['month'].map(days).astype(np.int8)"
   ]
  },
  {
   "cell_type": "markdown",
   "metadata": {
    "_uuid": "7c096e86eb0043c0f6eeb899de24e28ca4c4e044"
   },
   "source": [
    "Months since the last sale for each shop/item pair and for item only. I use programing approach.\n",
    "\n",
    "<i>Create HashTable with key equals to {shop_id,item_id} and value equals to date_block_num. Iterate data from the top. Foreach row if {row.shop_id,row.item_id} is not present in the table, then add it to the table and set its value to row.date_block_num. if HashTable contains key, then calculate the difference beteween cached value and row.date_block_num.</i>"
   ]
  },
  {
   "cell_type": "code",
   "execution_count": 32,
   "metadata": {
    "_uuid": "3458a7056c963167760921417d1f863f074f2b39",
    "execution": {
     "iopub.execute_input": "2022-06-05T08:14:04.998211Z",
     "iopub.status.busy": "2022-06-05T08:14:04.997966Z",
     "iopub.status.idle": "2022-06-05T08:30:48.866188Z",
     "shell.execute_reply": "2022-06-05T08:30:48.864890Z",
     "shell.execute_reply.started": "2022-06-05T08:14:04.998171Z"
    }
   },
   "outputs": [
    {
     "data": {
      "text/plain": [
       "1241.9603445529938"
      ]
     },
     "execution_count": 32,
     "metadata": {},
     "output_type": "execute_result"
    }
   ],
   "source": [
    "ts = time.time()\n",
    "cache = {}\n",
    "matrix['item_shop_last_sale'] = -1\n",
    "matrix['item_shop_last_sale'] = matrix['item_shop_last_sale'].astype(np.int8)\n",
    "for idx, row in matrix.iterrows():    \n",
    "    key = str(row.item_id)+' '+str(row.shop_id)\n",
    "    if key not in cache:\n",
    "        if row.item_cnt_month!=0:\n",
    "            cache[key] = row.date_block_num\n",
    "    else:\n",
    "        last_date_block_num = cache[key]\n",
    "        matrix.at[idx, 'item_shop_last_sale'] = row.date_block_num - last_date_block_num\n",
    "        cache[key] = row.date_block_num         \n",
    "time.time() - ts"
   ]
  },
  {
   "cell_type": "code",
   "execution_count": 33,
   "metadata": {
    "_uuid": "28b29fae3906d870b4dc3064a7f359b6d3abf623",
    "execution": {
     "iopub.execute_input": "2022-06-05T08:30:48.868692Z",
     "iopub.status.busy": "2022-06-05T08:30:48.868254Z",
     "iopub.status.idle": "2022-06-05T08:40:29.617626Z",
     "shell.execute_reply": "2022-06-05T08:40:29.616653Z",
     "shell.execute_reply.started": "2022-06-05T08:30:48.868619Z"
    }
   },
   "outputs": [
    {
     "data": {
      "text/plain": [
       "728.2040295600891"
      ]
     },
     "execution_count": 33,
     "metadata": {},
     "output_type": "execute_result"
    }
   ],
   "source": [
    "ts = time.time()\n",
    "cache = {}\n",
    "matrix['item_last_sale'] = -1\n",
    "matrix['item_last_sale'] = matrix['item_last_sale'].astype(np.int8)\n",
    "for idx, row in matrix.iterrows():    \n",
    "    key = row.item_id\n",
    "    if key not in cache:\n",
    "        if row.item_cnt_month!=0:\n",
    "            cache[key] = row.date_block_num\n",
    "    else:\n",
    "        last_date_block_num = cache[key]\n",
    "        if row.date_block_num>last_date_block_num:\n",
    "            matrix.at[idx, 'item_last_sale'] = row.date_block_num - last_date_block_num\n",
    "            cache[key] = row.date_block_num         \n",
    "time.time() - ts"
   ]
  },
  {
   "cell_type": "markdown",
   "metadata": {
    "_uuid": "61987e6adc1bec2ea897eec837c0253f7f73fdb5"
   },
   "source": [
    "Months since the first sale for each shop/item pair and for item only."
   ]
  },
  {
   "cell_type": "code",
   "execution_count": 34,
   "metadata": {
    "_uuid": "ad0869709bbada35726d5ca41dd913d817249f8e",
    "execution": {
     "iopub.execute_input": "2022-06-05T08:40:29.619882Z",
     "iopub.status.busy": "2022-06-05T08:40:29.619475Z",
     "iopub.status.idle": "2022-06-05T08:40:33.028600Z",
     "shell.execute_reply": "2022-06-05T08:40:33.027749Z",
     "shell.execute_reply.started": "2022-06-05T08:40:29.619810Z"
    }
   },
   "outputs": [
    {
     "data": {
      "text/plain": [
       "3.6287875175476074"
      ]
     },
     "execution_count": 34,
     "metadata": {},
     "output_type": "execute_result"
    }
   ],
   "source": [
    "ts = time.time()\n",
    "matrix['item_shop_first_sale'] = matrix['date_block_num'] - matrix.groupby(['item_id','shop_id'])['date_block_num'].transform('min')\n",
    "matrix['item_first_sale'] = matrix['date_block_num'] - matrix.groupby('item_id')['date_block_num'].transform('min')\n",
    "time.time() - ts"
   ]
  },
  {
   "cell_type": "markdown",
   "metadata": {
    "_uuid": "966cb34ccfe849fbb3707d93270691cb8eef7a89"
   },
   "source": [
    "## Final preparations\n",
    "Because of the using 12 as lag value drop first 12 months. Also drop all the columns with this month calculated values (other words which can not be calcucated for the test set)."
   ]
  },
  {
   "cell_type": "code",
   "execution_count": 35,
   "metadata": {
    "_uuid": "04df1bc4240f409a5d4521c6f70c2ced44f7c3d4",
    "execution": {
     "iopub.execute_input": "2022-06-05T08:40:33.032110Z",
     "iopub.status.busy": "2022-06-05T08:40:33.029862Z",
     "iopub.status.idle": "2022-06-05T08:40:35.094384Z",
     "shell.execute_reply": "2022-06-05T08:40:35.093480Z",
     "shell.execute_reply.started": "2022-06-05T08:40:33.032048Z"
    }
   },
   "outputs": [
    {
     "data": {
      "text/plain": [
       "2.3074212074279785"
      ]
     },
     "execution_count": 35,
     "metadata": {},
     "output_type": "execute_result"
    }
   ],
   "source": [
    "ts = time.time()\n",
    "matrix = matrix[matrix.date_block_num > 11]\n",
    "time.time() - ts"
   ]
  },
  {
   "cell_type": "markdown",
   "metadata": {
    "_uuid": "48a14784050901f878b40f093e4bc34e07ecce05"
   },
   "source": [
    "Producing lags brings a lot of nulls."
   ]
  },
  {
   "cell_type": "code",
   "execution_count": 36,
   "metadata": {
    "_uuid": "8e5d8cb5cea9be28af4a0486cc1bf797e5b5c7ee",
    "execution": {
     "iopub.execute_input": "2022-06-05T08:40:35.095733Z",
     "iopub.status.busy": "2022-06-05T08:40:35.095495Z",
     "iopub.status.idle": "2022-06-05T08:40:44.069539Z",
     "shell.execute_reply": "2022-06-05T08:40:44.068639Z",
     "shell.execute_reply.started": "2022-06-05T08:40:35.095691Z"
    }
   },
   "outputs": [
    {
     "data": {
      "text/plain": [
       "9.999962091445923"
      ]
     },
     "execution_count": 36,
     "metadata": {},
     "output_type": "execute_result"
    }
   ],
   "source": [
    "ts = time.time()\n",
    "def fill_na(df):\n",
    "    for col in df.columns:\n",
    "        if ('_lag_' in col) & (df[col].isnull().any()):\n",
    "            if ('item_cnt' in col):\n",
    "                df[col].fillna(0, inplace=True)         \n",
    "    return df\n",
    "\n",
    "matrix = fill_na(matrix)\n",
    "time.time() - ts"
   ]
  },
  {
   "cell_type": "code",
   "execution_count": 37,
   "metadata": {
    "_uuid": "00bf3fffc1b143d0555d03b9d79b5fd00d9d0dc9",
    "execution": {
     "iopub.execute_input": "2022-06-05T08:40:44.071199Z",
     "iopub.status.busy": "2022-06-05T08:40:44.070934Z",
     "iopub.status.idle": "2022-06-05T08:40:44.077097Z",
     "shell.execute_reply": "2022-06-05T08:40:44.076387Z",
     "shell.execute_reply.started": "2022-06-05T08:40:44.071153Z"
    }
   },
   "outputs": [
    {
     "data": {
      "text/plain": [
       "Index(['date_block_num', 'shop_id', 'item_id', 'item_cnt_month', 'city_code',\n",
       "       'item_category_id', 'type_code', 'subtype_code', 'item_cnt_month_lag_1',\n",
       "       'item_cnt_month_lag_2', 'item_cnt_month_lag_3', 'item_cnt_month_lag_6',\n",
       "       'item_cnt_month_lag_12', 'date_avg_item_cnt_lag_1',\n",
       "       'date_item_avg_item_cnt_lag_1', 'date_item_avg_item_cnt_lag_2',\n",
       "       'date_item_avg_item_cnt_lag_3', 'date_item_avg_item_cnt_lag_6',\n",
       "       'date_item_avg_item_cnt_lag_12', 'date_shop_avg_item_cnt_lag_1',\n",
       "       'date_shop_avg_item_cnt_lag_2', 'date_shop_avg_item_cnt_lag_3',\n",
       "       'date_shop_avg_item_cnt_lag_6', 'date_shop_avg_item_cnt_lag_12',\n",
       "       'date_cat_avg_item_cnt_lag_1', 'date_shop_cat_avg_item_cnt_lag_1',\n",
       "       'date_shop_type_avg_item_cnt_lag_1',\n",
       "       'date_shop_subtype_avg_item_cnt_lag_1', 'date_city_avg_item_cnt_lag_1',\n",
       "       'date_item_city_avg_item_cnt_lag_1', 'date_type_avg_item_cnt_lag_1',\n",
       "       'date_subtype_avg_item_cnt_lag_1', 'delta_price_lag',\n",
       "       'delta_revenue_lag_1', 'month', 'days', 'item_shop_last_sale',\n",
       "       'item_last_sale', 'item_shop_first_sale', 'item_first_sale'],\n",
       "      dtype='object')"
      ]
     },
     "execution_count": 37,
     "metadata": {},
     "output_type": "execute_result"
    }
   ],
   "source": [
    "matrix.columns"
   ]
  },
  {
   "cell_type": "code",
   "execution_count": 38,
   "metadata": {
    "_uuid": "5f4e4c5c552daf8d4da6999ae4b63f13459b2887",
    "execution": {
     "iopub.execute_input": "2022-06-05T08:40:44.078569Z",
     "iopub.status.busy": "2022-06-05T08:40:44.078313Z",
     "iopub.status.idle": "2022-06-05T08:40:44.096867Z",
     "shell.execute_reply": "2022-06-05T08:40:44.095942Z",
     "shell.execute_reply.started": "2022-06-05T08:40:44.078520Z"
    }
   },
   "outputs": [
    {
     "name": "stdout",
     "output_type": "stream",
     "text": [
      "<class 'pandas.core.frame.DataFrame'>\n",
      "Int64Index: 6639294 entries, 4488710 to 11128003\n",
      "Data columns (total 40 columns):\n",
      "date_block_num                          int8\n",
      "shop_id                                 int8\n",
      "item_id                                 int16\n",
      "item_cnt_month                          float16\n",
      "city_code                               int8\n",
      "item_category_id                        int8\n",
      "type_code                               int8\n",
      "subtype_code                            int8\n",
      "item_cnt_month_lag_1                    float16\n",
      "item_cnt_month_lag_2                    float16\n",
      "item_cnt_month_lag_3                    float16\n",
      "item_cnt_month_lag_6                    float16\n",
      "item_cnt_month_lag_12                   float16\n",
      "date_avg_item_cnt_lag_1                 float16\n",
      "date_item_avg_item_cnt_lag_1            float16\n",
      "date_item_avg_item_cnt_lag_2            float16\n",
      "date_item_avg_item_cnt_lag_3            float16\n",
      "date_item_avg_item_cnt_lag_6            float16\n",
      "date_item_avg_item_cnt_lag_12           float16\n",
      "date_shop_avg_item_cnt_lag_1            float16\n",
      "date_shop_avg_item_cnt_lag_2            float16\n",
      "date_shop_avg_item_cnt_lag_3            float16\n",
      "date_shop_avg_item_cnt_lag_6            float16\n",
      "date_shop_avg_item_cnt_lag_12           float16\n",
      "date_cat_avg_item_cnt_lag_1             float16\n",
      "date_shop_cat_avg_item_cnt_lag_1        float16\n",
      "date_shop_type_avg_item_cnt_lag_1       float16\n",
      "date_shop_subtype_avg_item_cnt_lag_1    float16\n",
      "date_city_avg_item_cnt_lag_1            float16\n",
      "date_item_city_avg_item_cnt_lag_1       float16\n",
      "date_type_avg_item_cnt_lag_1            float16\n",
      "date_subtype_avg_item_cnt_lag_1         float16\n",
      "delta_price_lag                         float16\n",
      "delta_revenue_lag_1                     float16\n",
      "month                                   int8\n",
      "days                                    int8\n",
      "item_shop_last_sale                     int8\n",
      "item_last_sale                          int8\n",
      "item_shop_first_sale                    int8\n",
      "item_first_sale                         int8\n",
      "dtypes: float16(27), int16(1), int8(12)\n",
      "memory usage: 481.2 MB\n"
     ]
    }
   ],
   "source": [
    "matrix.info()"
   ]
  },
  {
   "cell_type": "code",
   "execution_count": 39,
   "metadata": {
    "_uuid": "5d9988f8da8876f74092fbf827ceb6c61dd09d5e",
    "execution": {
     "iopub.execute_input": "2022-06-05T08:40:44.098416Z",
     "iopub.status.busy": "2022-06-05T08:40:44.097949Z",
     "iopub.status.idle": "2022-06-05T08:40:45.767145Z",
     "shell.execute_reply": "2022-06-05T08:40:45.766425Z",
     "shell.execute_reply.started": "2022-06-05T08:40:44.098368Z"
    }
   },
   "outputs": [],
   "source": [
    "matrix.to_pickle('data.pkl')\n",
    "del matrix\n",
    "del cache\n",
    "del group\n",
    "del items\n",
    "del shops\n",
    "del cats\n",
    "del train\n",
    "# leave test for submission\n",
    "gc.collect();"
   ]
  },
  {
   "cell_type": "markdown",
   "metadata": {
    "_uuid": "b69932efb440af8f6435f3cd802fbcd15682af71"
   },
   "source": [
    "# Part 2, xgboost"
   ]
  },
  {
   "cell_type": "code",
   "execution_count": 40,
   "metadata": {
    "_uuid": "a54364495b1818e9f069efa0c53500bf9e21d5f9",
    "execution": {
     "iopub.execute_input": "2022-06-05T08:40:45.768845Z",
     "iopub.status.busy": "2022-06-05T08:40:45.768479Z",
     "iopub.status.idle": "2022-06-05T08:40:48.234523Z",
     "shell.execute_reply": "2022-06-05T08:40:48.233817Z",
     "shell.execute_reply.started": "2022-06-05T08:40:45.768778Z"
    }
   },
   "outputs": [],
   "source": [
    "data = pd.read_pickle('../input/pfs-data/data.pkl')"
   ]
  },
  {
   "cell_type": "code",
   "execution_count": 41,
   "metadata": {
    "execution": {
     "iopub.execute_input": "2022-06-05T08:40:48.236290Z",
     "iopub.status.busy": "2022-06-05T08:40:48.235950Z",
     "iopub.status.idle": "2022-06-05T08:40:49.005110Z",
     "shell.execute_reply": "2022-06-05T08:40:49.004038Z",
     "shell.execute_reply.started": "2022-06-05T08:40:48.236225Z"
    }
   },
   "outputs": [
    {
     "name": "stdout",
     "output_type": "stream",
     "text": [
      "(6639294, 32)\n"
     ]
    }
   ],
   "source": [
    "data = data[[\n",
    "    'date_block_num',\n",
    "    'shop_id',\n",
    "    'item_id',\n",
    "    'item_cnt_month',\n",
    "    'item_category_id',\n",
    "    'type_code',\n",
    "    'subtype_code',\n",
    "    'item_cnt_month_lag_1',\n",
    "    'item_cnt_month_lag_2',\n",
    "    'item_cnt_month_lag_3',\n",
    "    #'item_cnt_month_lag_6',\n",
    "    #'item_cnt_month_lag_12',\n",
    "    'date_avg_item_cnt_lag_1',\n",
    "    'date_item_avg_item_cnt_lag_1',\n",
    "    'date_item_avg_item_cnt_lag_2',\n",
    "    'date_item_avg_item_cnt_lag_3',\n",
    "    #'date_item_avg_item_cnt_lag_6',\n",
    "    #'date_item_avg_item_cnt_lag_12',\n",
    "    'date_shop_avg_item_cnt_lag_1',\n",
    "    'date_shop_avg_item_cnt_lag_2',\n",
    "    'date_shop_avg_item_cnt_lag_3',\n",
    "    #'date_shop_avg_item_cnt_lag_6',\n",
    "    #'date_shop_avg_item_cnt_lag_12',\n",
    "    'date_cat_avg_item_cnt_lag_1',\n",
    "    'date_shop_cat_avg_item_cnt_lag_1',\n",
    "    'date_shop_type_avg_item_cnt_lag_1',\n",
    "    'date_shop_subtype_avg_item_cnt_lag_1',\n",
    "    'date_city_avg_item_cnt_lag_1',\n",
    "    'date_item_city_avg_item_cnt_lag_1',\n",
    "    'date_type_avg_item_cnt_lag_1',\n",
    "    'date_subtype_avg_item_cnt_lag_1',\n",
    "    'delta_price_lag',\n",
    "    'month',\n",
    "    'days',\n",
    "    'item_shop_last_sale',\n",
    "    'item_last_sale',\n",
    "    'item_shop_first_sale',\n",
    "    'item_first_sale',\n",
    "]]\n",
    "print(data.shape)"
   ]
  },
  {
   "cell_type": "code",
   "execution_count": 42,
   "metadata": {
    "execution": {
     "iopub.execute_input": "2022-06-05T08:40:49.006716Z",
     "iopub.status.busy": "2022-06-05T08:40:49.006335Z",
     "iopub.status.idle": "2022-06-05T08:40:52.303565Z",
     "shell.execute_reply": "2022-06-05T08:40:52.302768Z",
     "shell.execute_reply.started": "2022-06-05T08:40:49.006657Z"
    }
   },
   "outputs": [
    {
     "name": "stdout",
     "output_type": "stream",
     "text": [
      "(6186922, 31)\n",
      "(6186922,)\n",
      "(238172, 31)\n",
      "(214200, 31)\n"
     ]
    }
   ],
   "source": [
    "X_train = data[data.date_block_num < 33].drop(['item_cnt_month'], axis=1)\n",
    "Y_train = data[data.date_block_num < 33]['item_cnt_month']\n",
    "X_valid = data[data.date_block_num == 33].drop(['item_cnt_month'], axis=1)\n",
    "Y_valid = data[data.date_block_num == 33]['item_cnt_month']\n",
    "X_test = data[data.date_block_num == 34].drop(['item_cnt_month'], axis=1)\n",
    "print(X_train.shape)\n",
    "print(Y_train.shape)\n",
    "print(X_valid.shape)\n",
    "print(X_test.shape)"
   ]
  },
  {
   "cell_type": "code",
   "execution_count": 43,
   "metadata": {
    "execution": {
     "iopub.execute_input": "2022-06-05T08:40:52.304931Z",
     "iopub.status.busy": "2022-06-05T08:40:52.304660Z",
     "iopub.status.idle": "2022-06-05T08:40:52.415006Z",
     "shell.execute_reply": "2022-06-05T08:40:52.414171Z",
     "shell.execute_reply.started": "2022-06-05T08:40:52.304871Z"
    }
   },
   "outputs": [],
   "source": [
    "del data\n",
    "gc.collect();"
   ]
  },
  {
   "cell_type": "code",
   "execution_count": 44,
   "metadata": {
    "execution": {
     "iopub.execute_input": "2022-06-05T08:40:52.416459Z",
     "iopub.status.busy": "2022-06-05T08:40:52.416202Z",
     "iopub.status.idle": "2022-06-05T09:01:15.778888Z",
     "shell.execute_reply": "2022-06-05T09:01:15.777262Z",
     "shell.execute_reply.started": "2022-06-05T08:40:52.416409Z"
    }
   },
   "outputs": [
    {
     "name": "stdout",
     "output_type": "stream",
     "text": [
      "[0]\tvalidation_0-rmse:1.15263\tvalidation_1-rmse:1.12121\n",
      "Multiple eval metrics have been passed: 'validation_1-rmse' will be used for early stopping.\n",
      "\n",
      "Will train until validation_1-rmse hasn't improved in 10 rounds.\n",
      "[1]\tvalidation_0-rmse:1.10526\tvalidation_1-rmse:1.0829\n",
      "[2]\tvalidation_0-rmse:1.06568\tvalidation_1-rmse:1.05316\n",
      "[3]\tvalidation_0-rmse:1.0348\tvalidation_1-rmse:1.02858\n",
      "[4]\tvalidation_0-rmse:1.00445\tvalidation_1-rmse:1.00663\n",
      "[5]\tvalidation_0-rmse:0.980108\tvalidation_1-rmse:0.989198\n",
      "[6]\tvalidation_0-rmse:0.958648\tvalidation_1-rmse:0.974922\n",
      "[7]\tvalidation_0-rmse:0.939959\tvalidation_1-rmse:0.961545\n",
      "[8]\tvalidation_0-rmse:0.924948\tvalidation_1-rmse:0.951638\n",
      "[9]\tvalidation_0-rmse:0.910558\tvalidation_1-rmse:0.94335\n",
      "[10]\tvalidation_0-rmse:0.899699\tvalidation_1-rmse:0.937557\n",
      "[11]\tvalidation_0-rmse:0.890527\tvalidation_1-rmse:0.933241\n",
      "[12]\tvalidation_0-rmse:0.880932\tvalidation_1-rmse:0.928043\n",
      "[13]\tvalidation_0-rmse:0.873522\tvalidation_1-rmse:0.92405\n",
      "[14]\tvalidation_0-rmse:0.866884\tvalidation_1-rmse:0.920854\n",
      "[15]\tvalidation_0-rmse:0.861515\tvalidation_1-rmse:0.918713\n",
      "[16]\tvalidation_0-rmse:0.856599\tvalidation_1-rmse:0.917388\n",
      "[17]\tvalidation_0-rmse:0.852067\tvalidation_1-rmse:0.915792\n",
      "[18]\tvalidation_0-rmse:0.84878\tvalidation_1-rmse:0.914646\n",
      "[19]\tvalidation_0-rmse:0.845722\tvalidation_1-rmse:0.913957\n",
      "[20]\tvalidation_0-rmse:0.842261\tvalidation_1-rmse:0.912682\n",
      "[21]\tvalidation_0-rmse:0.839322\tvalidation_1-rmse:0.911386\n",
      "[22]\tvalidation_0-rmse:0.836661\tvalidation_1-rmse:0.911336\n",
      "[23]\tvalidation_0-rmse:0.833799\tvalidation_1-rmse:0.911201\n",
      "[24]\tvalidation_0-rmse:0.83194\tvalidation_1-rmse:0.911074\n",
      "[25]\tvalidation_0-rmse:0.829815\tvalidation_1-rmse:0.910991\n",
      "[26]\tvalidation_0-rmse:0.828126\tvalidation_1-rmse:0.910488\n",
      "[27]\tvalidation_0-rmse:0.826669\tvalidation_1-rmse:0.910844\n",
      "[28]\tvalidation_0-rmse:0.825279\tvalidation_1-rmse:0.9106\n",
      "[29]\tvalidation_0-rmse:0.824211\tvalidation_1-rmse:0.911067\n",
      "[30]\tvalidation_0-rmse:0.822855\tvalidation_1-rmse:0.910937\n",
      "[31]\tvalidation_0-rmse:0.821594\tvalidation_1-rmse:0.911398\n",
      "[32]\tvalidation_0-rmse:0.820692\tvalidation_1-rmse:0.911881\n",
      "[33]\tvalidation_0-rmse:0.819772\tvalidation_1-rmse:0.912394\n",
      "[34]\tvalidation_0-rmse:0.8188\tvalidation_1-rmse:0.911574\n",
      "[35]\tvalidation_0-rmse:0.818136\tvalidation_1-rmse:0.911659\n",
      "[36]\tvalidation_0-rmse:0.81744\tvalidation_1-rmse:0.912292\n",
      "Stopping. Best iteration:\n",
      "[26]\tvalidation_0-rmse:0.828126\tvalidation_1-rmse:0.910488\n",
      "\n"
     ]
    },
    {
     "data": {
      "text/plain": [
       "1468.465117931366"
      ]
     },
     "execution_count": 44,
     "metadata": {},
     "output_type": "execute_result"
    }
   ],
   "source": [
    "ts = time.time()\n",
    "\n",
    "model = XGBRegressor(\n",
    "    max_depth=8,\n",
    "    n_estimators=1000,\n",
    "    min_child_weight=300, \n",
    "    colsample_bytree=0.8, \n",
    "    subsample=0.8, \n",
    "    eta=0.3,    \n",
    "    seed=42)\n",
    "\n",
    "model.fit(\n",
    "    X_train, \n",
    "    Y_train, \n",
    "    eval_metric=\"rmse\", \n",
    "    eval_set=[(X_train, Y_train), (X_valid, Y_valid)], \n",
    "    verbose=True, \n",
    "    early_stopping_rounds = 10)\n",
    "\n",
    "time.time() - ts"
   ]
  },
  {
   "cell_type": "code",
   "execution_count": 45,
   "metadata": {
    "execution": {
     "iopub.execute_input": "2022-06-05T09:01:15.781403Z",
     "iopub.status.busy": "2022-06-05T09:01:15.780984Z",
     "iopub.status.idle": "2022-06-05T09:01:17.688276Z",
     "shell.execute_reply": "2022-06-05T09:01:17.687156Z",
     "shell.execute_reply.started": "2022-06-05T09:01:15.781335Z"
    }
   },
   "outputs": [],
   "source": [
    "Y_pred = model.predict(X_valid).clip(0, 20)\n",
    "Y_test = model.predict(X_test).clip(0, 20)\n",
    "\n",
    "submission = pd.DataFrame({\n",
    "    \"ID\": test.index, \n",
    "    \"item_cnt_month\": Y_test\n",
    "})\n",
    "submission.to_csv('xgb_submission.csv', index=False)\n",
    "\n",
    "# save predictions for an ensemble\n",
    "pickle.dump(Y_pred, open('xgb_train.pickle', 'wb'))\n",
    "pickle.dump(Y_test, open('xgb_test.pickle', 'wb'))"
   ]
  },
  {
   "cell_type": "code",
   "execution_count": 46,
   "metadata": {
    "execution": {
     "iopub.execute_input": "2022-06-05T09:01:17.690256Z",
     "iopub.status.busy": "2022-06-05T09:01:17.689744Z",
     "iopub.status.idle": "2022-06-05T09:01:18.268705Z",
     "shell.execute_reply": "2022-06-05T09:01:18.267982Z",
     "shell.execute_reply.started": "2022-06-05T09:01:17.690181Z"
    }
   },
   "outputs": [
    {
     "data": {
      "text/plain": [
       "<matplotlib.axes._subplots.AxesSubplot at 0x7f24b50f0160>"
      ]
     },
     "execution_count": 46,
     "metadata": {},
     "output_type": "execute_result"
    },
    {
     "data": {
      "image/png": "[encoded data removed]",
      "text/plain": [
       "<matplotlib.figure.Figure at 0x7f24b50cc710>"
      ]
     },
     "metadata": {},
     "output_type": "display_data"
    }
   ],
   "source": [
    "plot_features(model, (10,14))"
   ]
  }
 ],
 "metadata": {
  "kernelspec": {
   "display_name": "Python 3",
   "language": "python",
   "name": "python3"
  },
  "language_info": {
   "codemirror_mode": {
    "name": "ipython",
    "version": 3
   },
   "file_extension": ".py",
   "mimetype": "text/x-python",
   "name": "python",
   "nbconvert_exporter": "python",
   "pygments_lexer": "ipython3",
   "version": "3.6.4"
  }
 },
 "nbformat": 4,
 "nbformat_minor": 4
}

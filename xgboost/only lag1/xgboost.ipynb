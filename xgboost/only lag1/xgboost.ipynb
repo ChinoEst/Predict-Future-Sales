{
 "cells": [
  {
   "cell_type": "markdown",
   "metadata": {
    "_uuid": "f03379ee467570732ebb2b3d20062fea0584d57d"
   },
   "source": [
    "# Part 1, perfect features"
   ]
  },
  {
   "cell_type": "code",
   "execution_count": 1,
   "metadata": {
    "_cell_guid": "b1076dfc-b9ad-4769-8c92-a6c4dae69d19",
    "_uuid": "8f2839f25d086af736a60e9eeb907d3b93b6e0e5",
    "execution": {
     "iopub.execute_input": "2022-06-04T13:43:21.983794Z",
     "iopub.status.busy": "2022-06-04T13:43:21.983464Z",
     "iopub.status.idle": "2022-06-04T13:43:22.015653Z",
     "shell.execute_reply": "2022-06-04T13:43:22.014750Z",
     "shell.execute_reply.started": "2022-06-04T13:43:21.983756Z"
    }
   },
   "outputs": [
    {
     "data": {
      "text/plain": [
       "sys.version_info(major=3, minor=6, micro=5, releaselevel='final', serial=0)"
      ]
     },
     "execution_count": 1,
     "metadata": {},
     "output_type": "execute_result"
    }
   ],
   "source": [
    "import numpy as np\n",
    "import pandas as pd\n",
    "pd.set_option('display.max_rows', 500)\n",
    "pd.set_option('display.max_columns', 100)\n",
    "\n",
    "from itertools import product\n",
    "from sklearn.preprocessing import LabelEncoder\n",
    "\n",
    "import seaborn as sns\n",
    "import matplotlib.pyplot as plt\n",
    "%matplotlib inline\n",
    "\n",
    "from xgboost import XGBRegressor\n",
    "from xgboost import plot_importance\n",
    "\n",
    "def plot_features(booster, figsize):    \n",
    "    fig, ax = plt.subplots(1,1,figsize=figsize)\n",
    "    return plot_importance(booster=booster, ax=ax)\n",
    "\n",
    "import time\n",
    "import sys\n",
    "import gc\n",
    "import pickle\n",
    "sys.version_info"
   ]
  },
  {
   "cell_type": "code",
   "execution_count": 2,
   "metadata": {
    "_uuid": "f0a1c729d4fb3d6609f9dfb163ebe92fa9dc654c",
    "execution": {
     "iopub.execute_input": "2022-06-04T13:43:22.017532Z",
     "iopub.status.busy": "2022-06-04T13:43:22.017091Z",
     "iopub.status.idle": "2022-06-04T13:43:24.289180Z",
     "shell.execute_reply": "2022-06-04T13:43:24.288514Z",
     "shell.execute_reply.started": "2022-06-04T13:43:22.017460Z"
    }
   },
   "outputs": [],
   "source": [
    "items = pd.read_csv('../input/items.csv')\n",
    "shops = pd.read_csv('../input/shops.csv')\n",
    "cats = pd.read_csv('../input/item_categories.csv')\n",
    "train = pd.read_csv('../input/sales_train.csv')\n",
    "# set index to ID to avoid droping it later\n",
    "test  = pd.read_csv('../input/test.csv').set_index('ID')"
   ]
  },
  {
   "cell_type": "markdown",
   "metadata": {
    "_uuid": "ed7a190645750a818e29a6291ba2553a91764c7c"
   },
   "source": [
    "## Outliers"
   ]
  },
  {
   "cell_type": "markdown",
   "metadata": {
    "_uuid": "425d8f2dc08378977b393bf80c5fdcf0fba2c992"
   },
   "source": [
    "There are items with strange prices and sales. After detailed exploration I decided to remove items with price > 100000 and sales > 1001 (1000 is ok)."
   ]
  },
  {
   "cell_type": "code",
   "execution_count": 3,
   "metadata": {
    "_uuid": "5a864412fafc3129a3e9bd5bb1f18a7cf0c62935",
    "execution": {
     "iopub.execute_input": "2022-06-04T13:43:24.290481Z",
     "iopub.status.busy": "2022-06-04T13:43:24.290243Z",
     "iopub.status.idle": "2022-06-04T13:43:27.237066Z",
     "shell.execute_reply": "2022-06-04T13:43:27.235998Z",
     "shell.execute_reply.started": "2022-06-04T13:43:24.290443Z"
    }
   },
   "outputs": [
    {
     "data": {
      "text/plain": [
       "<matplotlib.axes._subplots.AxesSubplot at 0x7f4797fc64a8>"
      ]
     },
     "execution_count": 3,
     "metadata": {},
     "output_type": "execute_result"
    },
    {
     "data": {
      "image/png": "[encoded data removed]",
      "text/plain": [
       "<matplotlib.figure.Figure at 0x7f47987ebef0>"
      ]
     },
     "metadata": {},
     "output_type": "display_data"
    },
    {
     "data": {
      "image/png": "[encoded data removed]",
      "text/plain": [
       "<matplotlib.figure.Figure at 0x7f4797ff2390>"
      ]
     },
     "metadata": {},
     "output_type": "display_data"
    }
   ],
   "source": [
    "plt.figure(figsize=(10,4))\n",
    "plt.xlim(-100, 3000)\n",
    "sns.boxplot(x=train.item_cnt_day)\n",
    "\n",
    "plt.figure(figsize=(10,4))\n",
    "plt.xlim(train.item_price.min(), train.item_price.max()*1.1)\n",
    "sns.boxplot(x=train.item_price)"
   ]
  },
  {
   "cell_type": "code",
   "execution_count": 4,
   "metadata": {
    "_uuid": "7e621535d112603c60aeb2c2f83dbbf96d36b732",
    "execution": {
     "iopub.execute_input": "2022-06-04T13:43:27.238915Z",
     "iopub.status.busy": "2022-06-04T13:43:27.238565Z",
     "iopub.status.idle": "2022-06-04T13:43:27.657407Z",
     "shell.execute_reply": "2022-06-04T13:43:27.656606Z",
     "shell.execute_reply.started": "2022-06-04T13:43:27.238846Z"
    }
   },
   "outputs": [],
   "source": [
    "train = train[train.item_price<100000]\n",
    "train = train[train.item_cnt_day<1001]"
   ]
  },
  {
   "cell_type": "markdown",
   "metadata": {
    "_uuid": "d2f99368478e3063b1c379537944e954d7186928"
   },
   "source": [
    "There is one item with price below zero. Fill it with median."
   ]
  },
  {
   "cell_type": "code",
   "execution_count": 5,
   "metadata": {
    "_uuid": "0fc6b90b22fe232f4240ac8f965cc52b3db5526a",
    "execution": {
     "iopub.execute_input": "2022-06-04T13:43:27.659154Z",
     "iopub.status.busy": "2022-06-04T13:43:27.658870Z",
     "iopub.status.idle": "2022-06-04T13:43:27.835922Z",
     "shell.execute_reply": "2022-06-04T13:43:27.835116Z",
     "shell.execute_reply.started": "2022-06-04T13:43:27.659098Z"
    }
   },
   "outputs": [],
   "source": [
    "median = train[(train.shop_id==32)&(train.item_id==2973)&(train.date_block_num==4)&(train.item_price>0)].item_price.median()\n",
    "train.loc[train.item_price<0, 'item_price'] = median"
   ]
  },
  {
   "cell_type": "markdown",
   "metadata": {
    "_uuid": "7da194c285d696b5c6978148bf0143b9b2a7b0c5"
   },
   "source": [
    "Several shops are duplicates of each other (according to its name). Fix train and test set."
   ]
  },
  {
   "cell_type": "code",
   "execution_count": 6,
   "metadata": {
    "_uuid": "00fe91e9c482ea413abd774ff903fe3d152785dd",
    "execution": {
     "iopub.execute_input": "2022-06-04T13:43:27.837311Z",
     "iopub.status.busy": "2022-06-04T13:43:27.837031Z",
     "iopub.status.idle": "2022-06-04T13:43:28.187123Z",
     "shell.execute_reply": "2022-06-04T13:43:28.186339Z",
     "shell.execute_reply.started": "2022-06-04T13:43:27.837247Z"
    }
   },
   "outputs": [],
   "source": [
    "# Якутск Орджоникидзе, 56\n",
    "train.loc[train.shop_id == 0, 'shop_id'] = 57\n",
    "test.loc[test.shop_id == 0, 'shop_id'] = 57\n",
    "# Якутск ТЦ \"Центральный\"\n",
    "train.loc[train.shop_id == 1, 'shop_id'] = 58\n",
    "test.loc[test.shop_id == 1, 'shop_id'] = 58\n",
    "# Жуковский ул. Чкалова 39м²\n",
    "train.loc[train.shop_id == 10, 'shop_id'] = 11\n",
    "test.loc[test.shop_id == 10, 'shop_id'] = 11"
   ]
  },
  {
   "cell_type": "markdown",
   "metadata": {
    "_uuid": "a30f0521464e1fa20444e66d24bbdcb76b93f6de"
   },
   "source": [
    "## Shops/Cats/Items preprocessing\n",
    "Observations:\n",
    "* Each shop_name starts with the city name.\n",
    "* Each category contains type and subtype in its name."
   ]
  },
  {
   "cell_type": "code",
   "execution_count": 7,
   "metadata": {
    "_uuid": "12fae4c8d0c8f3e817307d1e0ffc6831e9a8d696",
    "execution": {
     "iopub.execute_input": "2022-06-04T13:43:28.188744Z",
     "iopub.status.busy": "2022-06-04T13:43:28.188489Z",
     "iopub.status.idle": "2022-06-04T13:43:28.226239Z",
     "shell.execute_reply": "2022-06-04T13:43:28.225090Z",
     "shell.execute_reply.started": "2022-06-04T13:43:28.188702Z"
    }
   },
   "outputs": [],
   "source": [
    "shops.loc[shops.shop_name == 'Сергиев Посад ТЦ \"7Я\"', 'shop_name'] = 'СергиевПосад ТЦ \"7Я\"'\n",
    "shops['city'] = shops['shop_name'].str.split(' ').map(lambda x: x[0])\n",
    "shops.loc[shops.city == '!Якутск', 'city'] = 'Якутск'\n",
    "shops['city_code'] = LabelEncoder().fit_transform(shops['city'])\n",
    "shops = shops[['shop_id','city_code']]\n",
    "\n",
    "cats['split'] = cats['item_category_name'].str.split('-')\n",
    "cats['type'] = cats['split'].map(lambda x: x[0].strip())\n",
    "cats['type_code'] = LabelEncoder().fit_transform(cats['type'])\n",
    "# if subtype is nan then type\n",
    "cats['subtype'] = cats['split'].map(lambda x: x[1].strip() if len(x) > 1 else x[0].strip())\n",
    "cats['subtype_code'] = LabelEncoder().fit_transform(cats['subtype'])\n",
    "cats = cats[['item_category_id','type_code', 'subtype_code']]\n",
    "\n",
    "items.drop(['item_name'], axis=1, inplace=True)"
   ]
  },
  {
   "cell_type": "markdown",
   "metadata": {
    "_uuid": "62c5f83fa222595da99294f465ab28e80ce415e9"
   },
   "source": [
    "## Monthly sales\n",
    "Test set is a product of some shops and some items within 34 month. There are 5100 items * 42 shops = 214200 pairs. 363 items are new compared to the train. Hence, for the most of the items in the test set target value should be zero. \n",
    "In the other hand train set contains only pairs which were sold or returned in the past. Tha main idea is to calculate monthly sales and <b>extend it with zero sales</b> for each unique pair within the month. This way train data will be similar to test data."
   ]
  },
  {
   "cell_type": "code",
   "execution_count": 8,
   "metadata": {
    "_uuid": "fb69350aef2c28cdb619e2532de1e24ab3c43899",
    "execution": {
     "iopub.execute_input": "2022-06-04T13:43:28.227923Z",
     "iopub.status.busy": "2022-06-04T13:43:28.227671Z",
     "iopub.status.idle": "2022-06-04T13:43:28.544942Z",
     "shell.execute_reply": "2022-06-04T13:43:28.544292Z",
     "shell.execute_reply.started": "2022-06-04T13:43:28.227878Z"
    }
   },
   "outputs": [
    {
     "data": {
      "text/plain": [
       "(363, 5100, 214200)"
      ]
     },
     "execution_count": 8,
     "metadata": {},
     "output_type": "execute_result"
    }
   ],
   "source": [
    "len(list(set(test.item_id) - set(test.item_id).intersection(set(train.item_id)))), len(list(set(test.item_id))), len(test)"
   ]
  },
  {
   "cell_type": "code",
   "execution_count": 9,
   "metadata": {
    "_uuid": "7626c7455ea71b65894c6c866519df15080fa2ac",
    "execution": {
     "iopub.execute_input": "2022-06-04T13:43:28.546573Z",
     "iopub.status.busy": "2022-06-04T13:43:28.546065Z",
     "iopub.status.idle": "2022-06-04T13:43:42.876962Z",
     "shell.execute_reply": "2022-06-04T13:43:42.876203Z",
     "shell.execute_reply.started": "2022-06-04T13:43:28.546500Z"
    }
   },
   "outputs": [
    {
     "data": {
      "text/plain": [
       "12.771902799606323"
      ]
     },
     "execution_count": 9,
     "metadata": {},
     "output_type": "execute_result"
    }
   ],
   "source": [
    "ts = time.time()\n",
    "matrix = []\n",
    "cols = ['date_block_num','shop_id','item_id']\n",
    "for i in range(34):\n",
    "    sales = train[train.date_block_num==i]\n",
    "    matrix.append(np.array(list(product([i], sales.shop_id.unique(), sales.item_id.unique())), dtype='int16'))\n",
    "    \n",
    "matrix = pd.DataFrame(np.vstack(matrix), columns=cols)\n",
    "matrix['date_block_num'] = matrix['date_block_num'].astype(np.int8)\n",
    "matrix['shop_id'] = matrix['shop_id'].astype(np.int8)\n",
    "matrix['item_id'] = matrix['item_id'].astype(np.int16)\n",
    "matrix.sort_values(cols,inplace=True)\n",
    "time.time() - ts"
   ]
  },
  {
   "cell_type": "markdown",
   "metadata": {
    "_uuid": "867e91a7570dd78b4834f4f1a166e58f80b63f93"
   },
   "source": [
    "Aggregate train set by shop/item pairs to calculate target aggreagates, then <b>clip(0,20)</b> target value. This way train target will be similar to the test predictions.\n",
    "\n",
    "<i>I use floats instead of ints for item_cnt_month to avoid downcasting it after concatination with the test set later. If it would be int16, after concatination with NaN values it becomes int64, but foat16 becomes float16 even with NaNs.</i>"
   ]
  },
  {
   "cell_type": "code",
   "execution_count": 10,
   "metadata": {
    "_uuid": "9fef5477060be7d2e6c85dcb79d8e18e6253f7dd",
    "execution": {
     "iopub.execute_input": "2022-06-04T13:43:42.878572Z",
     "iopub.status.busy": "2022-06-04T13:43:42.878236Z",
     "iopub.status.idle": "2022-06-04T13:43:42.908063Z",
     "shell.execute_reply": "2022-06-04T13:43:42.907224Z",
     "shell.execute_reply.started": "2022-06-04T13:43:42.878505Z"
    }
   },
   "outputs": [],
   "source": [
    "train['revenue'] = train['item_price'] *  train['item_cnt_day']"
   ]
  },
  {
   "cell_type": "code",
   "execution_count": 11,
   "metadata": {
    "_uuid": "7dd27181918fc7df89676e24d72130d183929d2d",
    "execution": {
     "iopub.execute_input": "2022-06-04T13:43:42.909850Z",
     "iopub.status.busy": "2022-06-04T13:43:42.909427Z",
     "iopub.status.idle": "2022-06-04T13:43:49.498830Z",
     "shell.execute_reply": "2022-06-04T13:43:49.497961Z",
     "shell.execute_reply.started": "2022-06-04T13:43:42.909782Z"
    }
   },
   "outputs": [
    {
     "data": {
      "text/plain": [
       "5.885802745819092"
      ]
     },
     "execution_count": 11,
     "metadata": {},
     "output_type": "execute_result"
    }
   ],
   "source": [
    "ts = time.time()\n",
    "group = train.groupby(['date_block_num','shop_id','item_id']).agg({'item_cnt_day': ['sum']})\n",
    "group.columns = ['item_cnt_month']\n",
    "group.reset_index(inplace=True)\n",
    "\n",
    "matrix = pd.merge(matrix, group, on=cols, how='left')\n",
    "matrix['item_cnt_month'] = (matrix['item_cnt_month']\n",
    "                                .fillna(0)\n",
    "                                .clip(0,20) # NB clip target here\n",
    "                                .astype(np.float16))\n",
    "time.time() - ts"
   ]
  },
  {
   "cell_type": "markdown",
   "metadata": {
    "execution": {
     "iopub.execute_input": "2022-06-03T10:33:50.242746Z",
     "iopub.status.busy": "2022-06-03T10:33:50.242403Z",
     "iopub.status.idle": "2022-06-03T10:33:50.317043Z",
     "shell.execute_reply": "2022-06-03T10:33:50.316033Z",
     "shell.execute_reply.started": "2022-06-03T10:33:50.242684Z"
    }
   },
   "source": [
    "group"
   ]
  },
  {
   "cell_type": "markdown",
   "metadata": {
    "_uuid": "315bc6107a93f3926a64fd09ea9244e9281ee41f"
   },
   "source": [
    "## Test set\n",
    "To use time tricks append test pairs to the matrix."
   ]
  },
  {
   "cell_type": "code",
   "execution_count": 12,
   "metadata": {
    "_uuid": "29d02bdb4fa768577607bf735b918ca81da85d41",
    "execution": {
     "iopub.execute_input": "2022-06-04T13:43:49.500665Z",
     "iopub.status.busy": "2022-06-04T13:43:49.500302Z",
     "iopub.status.idle": "2022-06-04T13:43:49.512304Z",
     "shell.execute_reply": "2022-06-04T13:43:49.511447Z",
     "shell.execute_reply.started": "2022-06-04T13:43:49.500597Z"
    }
   },
   "outputs": [],
   "source": [
    "test['date_block_num'] = 34\n",
    "test['date_block_num'] = test['date_block_num'].astype(np.int8)\n",
    "test['shop_id'] = test['shop_id'].astype(np.int8)\n",
    "test['item_id'] = test['item_id'].astype(np.int16)"
   ]
  },
  {
   "cell_type": "code",
   "execution_count": 13,
   "metadata": {
    "_uuid": "177fbbab94c8057d67d61357d29581248468a74d",
    "execution": {
     "iopub.execute_input": "2022-06-04T13:43:49.515297Z",
     "iopub.status.busy": "2022-06-04T13:43:49.514999Z",
     "iopub.status.idle": "2022-06-04T13:43:49.622638Z",
     "shell.execute_reply": "2022-06-04T13:43:49.621838Z",
     "shell.execute_reply.started": "2022-06-04T13:43:49.515223Z"
    }
   },
   "outputs": [
    {
     "data": {
      "text/plain": [
       "0.09985208511352539"
      ]
     },
     "execution_count": 13,
     "metadata": {},
     "output_type": "execute_result"
    }
   ],
   "source": [
    "ts = time.time()\n",
    "matrix = pd.concat([matrix, test], ignore_index=True, sort=False, keys=cols)\n",
    "matrix.fillna(0, inplace=True) # 34 month\n",
    "time.time() - ts"
   ]
  },
  {
   "cell_type": "markdown",
   "metadata": {
    "_uuid": "233e394a6cebf36ef002dc76fef8d430026a52b3"
   },
   "source": [
    "## Shops/Items/Cats features"
   ]
  },
  {
   "cell_type": "code",
   "execution_count": 14,
   "metadata": {
    "_uuid": "7dfd5df3e2bcaee4c312f3979736f52c40f2560f",
    "execution": {
     "iopub.execute_input": "2022-06-04T13:43:49.624267Z",
     "iopub.status.busy": "2022-06-04T13:43:49.623767Z",
     "iopub.status.idle": "2022-06-04T13:43:56.546116Z",
     "shell.execute_reply": "2022-06-04T13:43:56.545414Z",
     "shell.execute_reply.started": "2022-06-04T13:43:49.624216Z"
    }
   },
   "outputs": [
    {
     "data": {
      "text/plain": [
       "6.91314172744751"
      ]
     },
     "execution_count": 14,
     "metadata": {},
     "output_type": "execute_result"
    }
   ],
   "source": [
    "ts = time.time()\n",
    "matrix = pd.merge(matrix, shops, on=['shop_id'], how='left')\n",
    "matrix = pd.merge(matrix, items, on=['item_id'], how='left')\n",
    "matrix = pd.merge(matrix, cats, on=['item_category_id'], how='left')\n",
    "matrix['city_code'] = matrix['city_code'].astype(np.int8)\n",
    "matrix['item_category_id'] = matrix['item_category_id'].astype(np.int8)\n",
    "matrix['type_code'] = matrix['type_code'].astype(np.int8)\n",
    "matrix['subtype_code'] = matrix['subtype_code'].astype(np.int8)\n",
    "time.time() - ts"
   ]
  },
  {
   "cell_type": "markdown",
   "metadata": {
    "_uuid": "8358b291fdc8e0e7d1b5700974803b3f104715f7"
   },
   "source": [
    "## Traget lags"
   ]
  },
  {
   "cell_type": "code",
   "execution_count": 15,
   "metadata": {
    "_uuid": "9cd7bcc7643ce4545475e8e6f80d09a979aac42d",
    "execution": {
     "iopub.execute_input": "2022-06-04T13:43:56.547493Z",
     "iopub.status.busy": "2022-06-04T13:43:56.547211Z",
     "iopub.status.idle": "2022-06-04T13:43:56.556040Z",
     "shell.execute_reply": "2022-06-04T13:43:56.555421Z",
     "shell.execute_reply.started": "2022-06-04T13:43:56.547441Z"
    }
   },
   "outputs": [],
   "source": [
    "def lag_feature(df, lags, col):\n",
    "    tmp = df[['date_block_num','shop_id','item_id',col]]\n",
    "    for i in lags:\n",
    "        shifted = tmp.copy()\n",
    "        shifted.columns = ['date_block_num','shop_id','item_id', col+'_lag_'+str(i)]\n",
    "        shifted['date_block_num'] += i\n",
    "        df = pd.merge(df, shifted, on=['date_block_num','shop_id','item_id'], how='left')\n",
    "    return df"
   ]
  },
  {
   "cell_type": "code",
   "execution_count": 16,
   "metadata": {
    "_uuid": "78bf7ece93ebc4629ad0e48cd6a9927788d8706d",
    "execution": {
     "iopub.execute_input": "2022-06-04T13:43:56.557668Z",
     "iopub.status.busy": "2022-06-04T13:43:56.557156Z",
     "iopub.status.idle": "2022-06-04T13:44:39.836979Z",
     "shell.execute_reply": "2022-06-04T13:44:39.836175Z",
     "shell.execute_reply.started": "2022-06-04T13:43:56.557600Z"
    }
   },
   "outputs": [
    {
     "data": {
      "text/plain": [
       "39.27899765968323"
      ]
     },
     "execution_count": 16,
     "metadata": {},
     "output_type": "execute_result"
    }
   ],
   "source": [
    "ts = time.time()\n",
    "matrix = lag_feature(matrix, [1,2,3,6,12], 'item_cnt_month')\n",
    "time.time() - ts"
   ]
  },
  {
   "cell_type": "markdown",
   "metadata": {
    "_uuid": "c67bf4dbcef884ffe9d19c65d37bc4de1f287ef6"
   },
   "source": [
    "## Mean encoded features"
   ]
  },
  {
   "cell_type": "code",
   "execution_count": 17,
   "metadata": {
    "_uuid": "763aca242154ea10fa0a62fffadb4ef90e9532d6",
    "execution": {
     "iopub.execute_input": "2022-06-04T13:44:39.838732Z",
     "iopub.status.busy": "2022-06-04T13:44:39.838367Z",
     "iopub.status.idle": "2022-06-04T13:44:55.152894Z",
     "shell.execute_reply": "2022-06-04T13:44:55.152148Z",
     "shell.execute_reply.started": "2022-06-04T13:44:39.838646Z"
    }
   },
   "outputs": [
    {
     "data": {
      "text/plain": [
       "14.865168333053589"
      ]
     },
     "execution_count": 17,
     "metadata": {},
     "output_type": "execute_result"
    }
   ],
   "source": [
    "ts = time.time()\n",
    "group = matrix.groupby(['date_block_num']).agg({'item_cnt_month': ['mean']})\n",
    "group.columns = [ 'date_avg_item_cnt' ]\n",
    "group.reset_index(inplace=True)\n",
    "\n",
    "matrix = pd.merge(matrix, group, on=['date_block_num'], how='left')\n",
    "matrix['date_avg_item_cnt'] = matrix['date_avg_item_cnt'].astype(np.float16)\n",
    "matrix = lag_feature(matrix, [1], 'date_avg_item_cnt')\n",
    "matrix.drop(['date_avg_item_cnt'], axis=1, inplace=True)\n",
    "time.time() - ts"
   ]
  },
  {
   "cell_type": "code",
   "execution_count": 18,
   "metadata": {
    "_uuid": "fc9166c4e678ebb99d03566f1751b7d4b5c690d2",
    "execution": {
     "iopub.execute_input": "2022-06-04T13:44:55.154470Z",
     "iopub.status.busy": "2022-06-04T13:44:55.154009Z",
     "iopub.status.idle": "2022-06-04T13:45:50.342158Z",
     "shell.execute_reply": "2022-06-04T13:45:50.341353Z",
     "shell.execute_reply.started": "2022-06-04T13:44:55.154410Z"
    }
   },
   "outputs": [
    {
     "data": {
      "text/plain": [
       "52.40277862548828"
      ]
     },
     "execution_count": 18,
     "metadata": {},
     "output_type": "execute_result"
    }
   ],
   "source": [
    "ts = time.time()\n",
    "group = matrix.groupby(['date_block_num', 'item_id']).agg({'item_cnt_month': ['mean']})\n",
    "group.columns = [ 'date_item_avg_item_cnt' ]\n",
    "group.reset_index(inplace=True)\n",
    "\n",
    "matrix = pd.merge(matrix, group, on=['date_block_num','item_id'], how='left')\n",
    "matrix['date_item_avg_item_cnt'] = matrix['date_item_avg_item_cnt'].astype(np.float16)\n",
    "matrix = lag_feature(matrix, [1,2,3,6,12], 'date_item_avg_item_cnt')\n",
    "matrix.drop(['date_item_avg_item_cnt'], axis=1, inplace=True)\n",
    "time.time() - ts"
   ]
  },
  {
   "cell_type": "code",
   "execution_count": 19,
   "metadata": {
    "_uuid": "73f2552c403c5f67bbf07f28d69efcc015d00f32",
    "execution": {
     "iopub.execute_input": "2022-06-04T13:45:50.343634Z",
     "iopub.status.busy": "2022-06-04T13:45:50.343391Z",
     "iopub.status.idle": "2022-06-04T13:46:47.499466Z",
     "shell.execute_reply": "2022-06-04T13:46:47.498584Z",
     "shell.execute_reply.started": "2022-06-04T13:45:50.343590Z"
    }
   },
   "outputs": [
    {
     "data": {
      "text/plain": [
       "53.902010440826416"
      ]
     },
     "execution_count": 19,
     "metadata": {},
     "output_type": "execute_result"
    }
   ],
   "source": [
    "ts = time.time()\n",
    "group = matrix.groupby(['date_block_num', 'shop_id']).agg({'item_cnt_month': ['mean']})\n",
    "group.columns = [ 'date_shop_avg_item_cnt' ]\n",
    "group.reset_index(inplace=True)\n",
    "\n",
    "matrix = pd.merge(matrix, group, on=['date_block_num','shop_id'], how='left')\n",
    "matrix['date_shop_avg_item_cnt'] = matrix['date_shop_avg_item_cnt'].astype(np.float16)\n",
    "matrix = lag_feature(matrix, [1,2,3,6,12], 'date_shop_avg_item_cnt')\n",
    "matrix.drop(['date_shop_avg_item_cnt'], axis=1, inplace=True)\n",
    "time.time() - ts"
   ]
  },
  {
   "cell_type": "code",
   "execution_count": 20,
   "metadata": {
    "_uuid": "c3948a9b206bc480b31385c29a713aa49747de19",
    "execution": {
     "iopub.execute_input": "2022-06-04T13:46:47.501070Z",
     "iopub.status.busy": "2022-06-04T13:46:47.500815Z",
     "iopub.status.idle": "2022-06-04T13:47:09.415997Z",
     "shell.execute_reply": "2022-06-04T13:47:09.415138Z",
     "shell.execute_reply.started": "2022-06-04T13:46:47.501027Z"
    }
   },
   "outputs": [
    {
     "data": {
      "text/plain": [
       "20.589359998703003"
      ]
     },
     "execution_count": 20,
     "metadata": {},
     "output_type": "execute_result"
    }
   ],
   "source": [
    "ts = time.time()\n",
    "group = matrix.groupby(['date_block_num', 'item_category_id']).agg({'item_cnt_month': ['mean']})\n",
    "group.columns = [ 'date_cat_avg_item_cnt' ]\n",
    "group.reset_index(inplace=True)\n",
    "\n",
    "matrix = pd.merge(matrix, group, on=['date_block_num','item_category_id'], how='left')\n",
    "matrix['date_cat_avg_item_cnt'] = matrix['date_cat_avg_item_cnt'].astype(np.float16)\n",
    "matrix = lag_feature(matrix, [1], 'date_cat_avg_item_cnt')\n",
    "matrix.drop(['date_cat_avg_item_cnt'], axis=1, inplace=True)\n",
    "time.time() - ts"
   ]
  },
  {
   "cell_type": "code",
   "execution_count": 21,
   "metadata": {
    "_uuid": "bf98335755692f0d7666eeac2db1961692f09a16",
    "execution": {
     "iopub.execute_input": "2022-06-04T13:47:09.417859Z",
     "iopub.status.busy": "2022-06-04T13:47:09.417449Z",
     "iopub.status.idle": "2022-06-04T13:47:33.634621Z",
     "shell.execute_reply": "2022-06-04T13:47:33.633701Z",
     "shell.execute_reply.started": "2022-06-04T13:47:09.417781Z"
    }
   },
   "outputs": [
    {
     "data": {
      "text/plain": [
       "23.043143272399902"
      ]
     },
     "execution_count": 21,
     "metadata": {},
     "output_type": "execute_result"
    }
   ],
   "source": [
    "ts = time.time()\n",
    "group = matrix.groupby(['date_block_num', 'shop_id', 'item_category_id']).agg({'item_cnt_month': ['mean']})\n",
    "group.columns = ['date_shop_cat_avg_item_cnt']\n",
    "group.reset_index(inplace=True)\n",
    "\n",
    "matrix = pd.merge(matrix, group, on=['date_block_num', 'shop_id', 'item_category_id'], how='left')\n",
    "matrix['date_shop_cat_avg_item_cnt'] = matrix['date_shop_cat_avg_item_cnt'].astype(np.float16)\n",
    "matrix = lag_feature(matrix, [1], 'date_shop_cat_avg_item_cnt')\n",
    "matrix.drop(['date_shop_cat_avg_item_cnt'], axis=1, inplace=True)\n",
    "time.time() - ts"
   ]
  },
  {
   "cell_type": "code",
   "execution_count": 22,
   "metadata": {
    "_uuid": "3959603ea684eb3cbfd17d557399caa6e9da88e4",
    "execution": {
     "iopub.execute_input": "2022-06-04T13:47:33.636216Z",
     "iopub.status.busy": "2022-06-04T13:47:33.635935Z",
     "iopub.status.idle": "2022-06-04T13:47:57.056445Z",
     "shell.execute_reply": "2022-06-04T13:47:57.055468Z",
     "shell.execute_reply.started": "2022-06-04T13:47:33.636167Z"
    }
   },
   "outputs": [
    {
     "data": {
      "text/plain": [
       "22.94894766807556"
      ]
     },
     "execution_count": 22,
     "metadata": {},
     "output_type": "execute_result"
    }
   ],
   "source": [
    "ts = time.time()\n",
    "group = matrix.groupby(['date_block_num', 'shop_id', 'type_code']).agg({'item_cnt_month': ['mean']})\n",
    "group.columns = ['date_shop_type_avg_item_cnt']\n",
    "group.reset_index(inplace=True)\n",
    "\n",
    "matrix = pd.merge(matrix, group, on=['date_block_num', 'shop_id', 'type_code'], how='left')\n",
    "matrix['date_shop_type_avg_item_cnt'] = matrix['date_shop_type_avg_item_cnt'].astype(np.float16)\n",
    "matrix = lag_feature(matrix, [1], 'date_shop_type_avg_item_cnt')\n",
    "matrix.drop(['date_shop_type_avg_item_cnt'], axis=1, inplace=True)\n",
    "time.time() - ts"
   ]
  },
  {
   "cell_type": "code",
   "execution_count": 23,
   "metadata": {
    "_uuid": "39f66d2e30f691237aa5d41ff9fc3a0eb7e9a788",
    "execution": {
     "iopub.execute_input": "2022-06-04T13:47:57.057750Z",
     "iopub.status.busy": "2022-06-04T13:47:57.057534Z",
     "iopub.status.idle": "2022-06-04T13:48:21.833549Z",
     "shell.execute_reply": "2022-06-04T13:48:21.832554Z",
     "shell.execute_reply.started": "2022-06-04T13:47:57.057718Z"
    }
   },
   "outputs": [
    {
     "data": {
      "text/plain": [
       "24.25088882446289"
      ]
     },
     "execution_count": 23,
     "metadata": {},
     "output_type": "execute_result"
    }
   ],
   "source": [
    "ts = time.time()\n",
    "group = matrix.groupby(['date_block_num', 'shop_id', 'subtype_code']).agg({'item_cnt_month': ['mean']})\n",
    "group.columns = ['date_shop_subtype_avg_item_cnt']\n",
    "group.reset_index(inplace=True)\n",
    "\n",
    "matrix = pd.merge(matrix, group, on=['date_block_num', 'shop_id', 'subtype_code'], how='left')\n",
    "matrix['date_shop_subtype_avg_item_cnt'] = matrix['date_shop_subtype_avg_item_cnt'].astype(np.float16)\n",
    "matrix = lag_feature(matrix, [1], 'date_shop_subtype_avg_item_cnt')\n",
    "matrix.drop(['date_shop_subtype_avg_item_cnt'], axis=1, inplace=True)\n",
    "time.time() - ts"
   ]
  },
  {
   "cell_type": "code",
   "execution_count": 24,
   "metadata": {
    "_uuid": "87d57d01beb0830138dabae79b4022d4c6a9cc12",
    "execution": {
     "iopub.execute_input": "2022-06-04T13:48:21.835410Z",
     "iopub.status.busy": "2022-06-04T13:48:21.835015Z",
     "iopub.status.idle": "2022-06-04T13:48:46.660346Z",
     "shell.execute_reply": "2022-06-04T13:48:46.659446Z",
     "shell.execute_reply.started": "2022-06-04T13:48:21.835334Z"
    }
   },
   "outputs": [
    {
     "data": {
      "text/plain": [
       "23.954975605010986"
      ]
     },
     "execution_count": 24,
     "metadata": {},
     "output_type": "execute_result"
    }
   ],
   "source": [
    "ts = time.time()\n",
    "group = matrix.groupby(['date_block_num', 'city_code']).agg({'item_cnt_month': ['mean']})\n",
    "group.columns = [ 'date_city_avg_item_cnt' ]\n",
    "group.reset_index(inplace=True)\n",
    "\n",
    "matrix = pd.merge(matrix, group, on=['date_block_num', 'city_code'], how='left')\n",
    "matrix['date_city_avg_item_cnt'] = matrix['date_city_avg_item_cnt'].astype(np.float16)\n",
    "matrix = lag_feature(matrix, [1], 'date_city_avg_item_cnt')\n",
    "matrix.drop(['date_city_avg_item_cnt'], axis=1, inplace=True)\n",
    "time.time() - ts"
   ]
  },
  {
   "cell_type": "code",
   "execution_count": 25,
   "metadata": {
    "_uuid": "db1f0170ec4a6fd9894bc53b36f3166d4b26abcf",
    "execution": {
     "iopub.execute_input": "2022-06-04T13:48:46.661985Z",
     "iopub.status.busy": "2022-06-04T13:48:46.661694Z",
     "iopub.status.idle": "2022-06-04T13:49:20.819131Z",
     "shell.execute_reply": "2022-06-04T13:49:20.818407Z",
     "shell.execute_reply.started": "2022-06-04T13:48:46.661929Z"
    }
   },
   "outputs": [
    {
     "data": {
      "text/plain": [
       "32.61656165122986"
      ]
     },
     "execution_count": 25,
     "metadata": {},
     "output_type": "execute_result"
    }
   ],
   "source": [
    "ts = time.time()\n",
    "group = matrix.groupby(['date_block_num', 'item_id', 'city_code']).agg({'item_cnt_month': ['mean']})\n",
    "group.columns = [ 'date_item_city_avg_item_cnt' ]\n",
    "group.reset_index(inplace=True)\n",
    "\n",
    "matrix = pd.merge(matrix, group, on=['date_block_num', 'item_id', 'city_code'], how='left')\n",
    "matrix['date_item_city_avg_item_cnt'] = matrix['date_item_city_avg_item_cnt'].astype(np.float16)\n",
    "matrix = lag_feature(matrix, [1], 'date_item_city_avg_item_cnt')\n",
    "matrix.drop(['date_item_city_avg_item_cnt'], axis=1, inplace=True)\n",
    "time.time() - ts"
   ]
  },
  {
   "cell_type": "code",
   "execution_count": 26,
   "metadata": {
    "_uuid": "3cd5232ad63357dacebe9d223cc93dd669132bb7",
    "execution": {
     "iopub.execute_input": "2022-06-04T13:49:20.820585Z",
     "iopub.status.busy": "2022-06-04T13:49:20.820342Z",
     "iopub.status.idle": "2022-06-04T13:49:46.586929Z",
     "shell.execute_reply": "2022-06-04T13:49:46.586110Z",
     "shell.execute_reply.started": "2022-06-04T13:49:20.820544Z"
    }
   },
   "outputs": [
    {
     "data": {
      "text/plain": [
       "24.94149923324585"
      ]
     },
     "execution_count": 26,
     "metadata": {},
     "output_type": "execute_result"
    }
   ],
   "source": [
    "ts = time.time()\n",
    "group = matrix.groupby(['date_block_num', 'type_code']).agg({'item_cnt_month': ['mean']})\n",
    "group.columns = [ 'date_type_avg_item_cnt' ]\n",
    "group.reset_index(inplace=True)\n",
    "\n",
    "matrix = pd.merge(matrix, group, on=['date_block_num', 'type_code'], how='left')\n",
    "matrix['date_type_avg_item_cnt'] = matrix['date_type_avg_item_cnt'].astype(np.float16)\n",
    "matrix = lag_feature(matrix, [1], 'date_type_avg_item_cnt')\n",
    "matrix.drop(['date_type_avg_item_cnt'], axis=1, inplace=True)\n",
    "time.time() - ts"
   ]
  },
  {
   "cell_type": "code",
   "execution_count": 27,
   "metadata": {
    "_uuid": "00394f3694ae9c7093176eadac7abeaa79ff5467",
    "execution": {
     "iopub.execute_input": "2022-06-04T13:49:46.588421Z",
     "iopub.status.busy": "2022-06-04T13:49:46.588157Z",
     "iopub.status.idle": "2022-06-04T13:50:13.989167Z",
     "shell.execute_reply": "2022-06-04T13:50:13.988322Z",
     "shell.execute_reply.started": "2022-06-04T13:49:46.588371Z"
    }
   },
   "outputs": [
    {
     "data": {
      "text/plain": [
       "26.470921754837036"
      ]
     },
     "execution_count": 27,
     "metadata": {},
     "output_type": "execute_result"
    }
   ],
   "source": [
    "ts = time.time()\n",
    "group = matrix.groupby(['date_block_num', 'subtype_code']).agg({'item_cnt_month': ['mean']})\n",
    "group.columns = [ 'date_subtype_avg_item_cnt' ]\n",
    "group.reset_index(inplace=True)\n",
    "\n",
    "matrix = pd.merge(matrix, group, on=['date_block_num', 'subtype_code'], how='left')\n",
    "matrix['date_subtype_avg_item_cnt'] = matrix['date_subtype_avg_item_cnt'].astype(np.float16)\n",
    "matrix = lag_feature(matrix, [1], 'date_subtype_avg_item_cnt')\n",
    "matrix.drop(['date_subtype_avg_item_cnt'], axis=1, inplace=True)\n",
    "time.time() - ts"
   ]
  },
  {
   "cell_type": "markdown",
   "metadata": {
    "_uuid": "6bcea31d93ab035ca3fa1ed7c0afddbf602c414a"
   },
   "source": [
    "## Trend features"
   ]
  },
  {
   "cell_type": "markdown",
   "metadata": {
    "_uuid": "0504e9613087237c255914d9ebd165fac4e88cd0"
   },
   "source": [
    "Price trend for the last six months."
   ]
  },
  {
   "cell_type": "code",
   "execution_count": 28,
   "metadata": {
    "_uuid": "0da2ded8502e273137991fd2bebbadaf19c19622",
    "execution": {
     "iopub.execute_input": "2022-06-04T13:50:13.991193Z",
     "iopub.status.busy": "2022-06-04T13:50:13.990679Z",
     "iopub.status.idle": "2022-06-04T13:56:11.646341Z",
     "shell.execute_reply": "2022-06-04T13:56:11.645414Z",
     "shell.execute_reply.started": "2022-06-04T13:50:13.991131Z"
    }
   },
   "outputs": [
    {
     "data": {
      "text/plain": [
       "342.1539239883423"
      ]
     },
     "execution_count": 28,
     "metadata": {},
     "output_type": "execute_result"
    }
   ],
   "source": [
    "ts = time.time()\n",
    "group = train.groupby(['item_id']).agg({'item_price': ['mean']})\n",
    "group.columns = ['item_avg_item_price']\n",
    "group.reset_index(inplace=True)\n",
    "\n",
    "matrix = pd.merge(matrix, group, on=['item_id'], how='left')\n",
    "matrix['item_avg_item_price'] = matrix['item_avg_item_price'].astype(np.float16)\n",
    "\n",
    "group = train.groupby(['date_block_num','item_id']).agg({'item_price': ['mean']})\n",
    "group.columns = ['date_item_avg_item_price']\n",
    "group.reset_index(inplace=True)\n",
    "\n",
    "matrix = pd.merge(matrix, group, on=['date_block_num','item_id'], how='left')\n",
    "matrix['date_item_avg_item_price'] = matrix['date_item_avg_item_price'].astype(np.float16)\n",
    "\n",
    "lags = [1,2,3,4,5,6]\n",
    "matrix = lag_feature(matrix, lags, 'date_item_avg_item_price')\n",
    "\n",
    "for i in lags:\n",
    "    matrix['delta_price_lag_'+str(i)] = \\\n",
    "        (matrix['date_item_avg_item_price_lag_'+str(i)] - matrix['item_avg_item_price']) / matrix['item_avg_item_price']\n",
    "\n",
    "def select_trend(row):\n",
    "    for i in lags:\n",
    "        if row['delta_price_lag_'+str(i)]:\n",
    "            return row['delta_price_lag_'+str(i)]\n",
    "    return 0\n",
    "    \n",
    "matrix['delta_price_lag'] = matrix.apply(select_trend, axis=1)\n",
    "matrix['delta_price_lag'] = matrix['delta_price_lag'].astype(np.float16)\n",
    "matrix['delta_price_lag'].fillna(0, inplace=True)\n",
    "\n",
    "# https://stackoverflow.com/questions/31828240/first-non-null-value-per-row-from-a-list-of-pandas-columns/31828559\n",
    "# matrix['price_trend'] = matrix[['delta_price_lag_1','delta_price_lag_2','delta_price_lag_3']].bfill(axis=1).iloc[:, 0]\n",
    "# Invalid dtype for backfill_2d [float16]\n",
    "\n",
    "fetures_to_drop = ['item_avg_item_price', 'date_item_avg_item_price']\n",
    "for i in lags:\n",
    "    fetures_to_drop += ['date_item_avg_item_price_lag_'+str(i)]\n",
    "    fetures_to_drop += ['delta_price_lag_'+str(i)]\n",
    "\n",
    "matrix.drop(fetures_to_drop, axis=1, inplace=True)\n",
    "\n",
    "time.time() - ts"
   ]
  },
  {
   "cell_type": "markdown",
   "metadata": {
    "_uuid": "17765ddb48f52abd88847a42c0a3ffe974e5b121"
   },
   "source": [
    "Last month shop revenue trend"
   ]
  },
  {
   "cell_type": "code",
   "execution_count": 29,
   "metadata": {
    "_uuid": "e633be47f1a22b41487866ce67fb874bd296339e",
    "execution": {
     "iopub.execute_input": "2022-06-04T13:56:11.647915Z",
     "iopub.status.busy": "2022-06-04T13:56:11.647656Z",
     "iopub.status.idle": "2022-06-04T13:56:44.067068Z",
     "shell.execute_reply": "2022-06-04T13:56:44.066257Z",
     "shell.execute_reply.started": "2022-06-04T13:56:11.647870Z"
    }
   },
   "outputs": [
    {
     "data": {
      "text/plain": [
       "30.633936405181885"
      ]
     },
     "execution_count": 29,
     "metadata": {},
     "output_type": "execute_result"
    }
   ],
   "source": [
    "ts = time.time()\n",
    "group = train.groupby(['date_block_num','shop_id']).agg({'revenue': ['sum']})\n",
    "group.columns = ['date_shop_revenue']\n",
    "group.reset_index(inplace=True)\n",
    "\n",
    "matrix = pd.merge(matrix, group, on=['date_block_num','shop_id'], how='left')\n",
    "matrix['date_shop_revenue'] = matrix['date_shop_revenue'].astype(np.float32)\n",
    "\n",
    "group = group.groupby(['shop_id']).agg({'date_shop_revenue': ['mean']})\n",
    "group.columns = ['shop_avg_revenue']\n",
    "group.reset_index(inplace=True)\n",
    "\n",
    "matrix = pd.merge(matrix, group, on=['shop_id'], how='left')\n",
    "matrix['shop_avg_revenue'] = matrix['shop_avg_revenue'].astype(np.float32)\n",
    "\n",
    "matrix['delta_revenue'] = (matrix['date_shop_revenue'] - matrix['shop_avg_revenue']) / matrix['shop_avg_revenue']\n",
    "matrix['delta_revenue'] = matrix['delta_revenue'].astype(np.float16)\n",
    "\n",
    "matrix = lag_feature(matrix, [1], 'delta_revenue')\n",
    "\n",
    "matrix.drop(['date_shop_revenue','shop_avg_revenue','delta_revenue'], axis=1, inplace=True)\n",
    "time.time() - ts"
   ]
  },
  {
   "cell_type": "markdown",
   "metadata": {
    "_uuid": "47e06af411b7d26cd93dad3d6735e48e5fbdee50"
   },
   "source": [
    "## Special features"
   ]
  },
  {
   "cell_type": "code",
   "execution_count": 30,
   "metadata": {
    "_uuid": "bb521e1f33d4124a3b90b47447bdb29150770b6e",
    "execution": {
     "iopub.execute_input": "2022-06-04T13:56:44.068547Z",
     "iopub.status.busy": "2022-06-04T13:56:44.068304Z",
     "iopub.status.idle": "2022-06-04T13:56:44.129216Z",
     "shell.execute_reply": "2022-06-04T13:56:44.128468Z",
     "shell.execute_reply.started": "2022-06-04T13:56:44.068504Z"
    }
   },
   "outputs": [],
   "source": [
    "matrix['month'] = matrix['date_block_num'] % 12"
   ]
  },
  {
   "cell_type": "markdown",
   "metadata": {
    "_uuid": "b4dc4d2ff86483989c4b74fc02a0d01ca68a5c75"
   },
   "source": [
    "Number of days in a month. There are no leap years."
   ]
  },
  {
   "cell_type": "code",
   "execution_count": 31,
   "metadata": {
    "_uuid": "e23f0201056b73368e3b70d4c36c6bb9e4a55291",
    "execution": {
     "iopub.execute_input": "2022-06-04T13:56:44.130620Z",
     "iopub.status.busy": "2022-06-04T13:56:44.130396Z",
     "iopub.status.idle": "2022-06-04T13:56:44.414368Z",
     "shell.execute_reply": "2022-06-04T13:56:44.413341Z",
     "shell.execute_reply.started": "2022-06-04T13:56:44.130582Z"
    }
   },
   "outputs": [],
   "source": [
    "days = pd.Series([31,28,31,30,31,30,31,31,30,31,30,31])\n",
    "matrix['days'] = matrix['month'].map(days).astype(np.int8)"
   ]
  },
  {
   "cell_type": "markdown",
   "metadata": {
    "_uuid": "7c096e86eb0043c0f6eeb899de24e28ca4c4e044"
   },
   "source": [
    "Months since the last sale for each shop/item pair and for item only. I use programing approach.\n",
    "\n",
    "<i>Create HashTable with key equals to {shop_id,item_id} and value equals to date_block_num. Iterate data from the top. Foreach row if {row.shop_id,row.item_id} is not present in the table, then add it to the table and set its value to row.date_block_num. if HashTable contains key, then calculate the difference beteween cached value and row.date_block_num.</i>"
   ]
  },
  {
   "cell_type": "code",
   "execution_count": 32,
   "metadata": {
    "_uuid": "3458a7056c963167760921417d1f863f074f2b39",
    "execution": {
     "iopub.execute_input": "2022-06-04T13:56:44.415969Z",
     "iopub.status.busy": "2022-06-04T13:56:44.415726Z",
     "iopub.status.idle": "2022-06-04T14:13:13.274649Z",
     "shell.execute_reply": "2022-06-04T14:13:13.272934Z",
     "shell.execute_reply.started": "2022-06-04T13:56:44.415928Z"
    }
   },
   "outputs": [
    {
     "data": {
      "text/plain": [
       "968.8473887443542"
      ]
     },
     "execution_count": 32,
     "metadata": {},
     "output_type": "execute_result"
    }
   ],
   "source": [
    "ts = time.time()\n",
    "cache = {}\n",
    "matrix['item_shop_last_sale'] = -1\n",
    "matrix['item_shop_last_sale'] = matrix['item_shop_last_sale'].astype(np.int8)\n",
    "for idx, row in matrix.iterrows():    \n",
    "    key = str(row.item_id)+' '+str(row.shop_id)\n",
    "    if key not in cache:\n",
    "        if row.item_cnt_month!=0:\n",
    "            cache[key] = row.date_block_num\n",
    "    else:\n",
    "        last_date_block_num = cache[key]\n",
    "        matrix.at[idx, 'item_shop_last_sale'] = row.date_block_num - last_date_block_num\n",
    "        cache[key] = row.date_block_num         \n",
    "time.time() - ts"
   ]
  },
  {
   "cell_type": "code",
   "execution_count": 33,
   "metadata": {
    "_uuid": "28b29fae3906d870b4dc3064a7f359b6d3abf623",
    "execution": {
     "iopub.execute_input": "2022-06-04T14:13:13.276420Z",
     "iopub.status.busy": "2022-06-04T14:13:13.275834Z",
     "iopub.status.idle": "2022-06-04T14:22:51.735411Z",
     "shell.execute_reply": "2022-06-04T14:22:51.734396Z",
     "shell.execute_reply.started": "2022-06-04T14:13:13.276367Z"
    }
   },
   "outputs": [
    {
     "data": {
      "text/plain": [
       "562.0002012252808"
      ]
     },
     "execution_count": 33,
     "metadata": {},
     "output_type": "execute_result"
    }
   ],
   "source": [
    "ts = time.time()\n",
    "cache = {}\n",
    "matrix['item_last_sale'] = -1\n",
    "matrix['item_last_sale'] = matrix['item_last_sale'].astype(np.int8)\n",
    "for idx, row in matrix.iterrows():    \n",
    "    key = row.item_id\n",
    "    if key not in cache:\n",
    "        if row.item_cnt_month!=0:\n",
    "            cache[key] = row.date_block_num\n",
    "    else:\n",
    "        last_date_block_num = cache[key]\n",
    "        if row.date_block_num>last_date_block_num:\n",
    "            matrix.at[idx, 'item_last_sale'] = row.date_block_num - last_date_block_num\n",
    "            cache[key] = row.date_block_num         \n",
    "time.time() - ts"
   ]
  },
  {
   "cell_type": "markdown",
   "metadata": {
    "_uuid": "61987e6adc1bec2ea897eec837c0253f7f73fdb5"
   },
   "source": [
    "Months since the first sale for each shop/item pair and for item only."
   ]
  },
  {
   "cell_type": "code",
   "execution_count": 34,
   "metadata": {
    "_uuid": "ad0869709bbada35726d5ca41dd913d817249f8e",
    "execution": {
     "iopub.execute_input": "2022-06-04T14:22:51.736989Z",
     "iopub.status.busy": "2022-06-04T14:22:51.736735Z",
     "iopub.status.idle": "2022-06-04T14:22:55.807190Z",
     "shell.execute_reply": "2022-06-04T14:22:55.806400Z",
     "shell.execute_reply.started": "2022-06-04T14:22:51.736942Z"
    }
   },
   "outputs": [
    {
     "data": {
      "text/plain": [
       "2.722280979156494"
      ]
     },
     "execution_count": 34,
     "metadata": {},
     "output_type": "execute_result"
    }
   ],
   "source": [
    "ts = time.time()\n",
    "matrix['item_shop_first_sale'] = matrix['date_block_num'] - matrix.groupby(['item_id','shop_id'])['date_block_num'].transform('min')\n",
    "matrix['item_first_sale'] = matrix['date_block_num'] - matrix.groupby('item_id')['date_block_num'].transform('min')\n",
    "time.time() - ts"
   ]
  },
  {
   "cell_type": "markdown",
   "metadata": {
    "_uuid": "966cb34ccfe849fbb3707d93270691cb8eef7a89"
   },
   "source": [
    "## Final preparations\n",
    "Because of the using 12 as lag value drop first 12 months. Also drop all the columns with this month calculated values (other words which can not be calcucated for the test set)."
   ]
  },
  {
   "cell_type": "code",
   "execution_count": 35,
   "metadata": {
    "_uuid": "04df1bc4240f409a5d4521c6f70c2ced44f7c3d4",
    "execution": {
     "iopub.execute_input": "2022-06-04T14:22:55.808513Z",
     "iopub.status.busy": "2022-06-04T14:22:55.808221Z",
     "iopub.status.idle": "2022-06-04T14:22:57.811132Z",
     "shell.execute_reply": "2022-06-04T14:22:57.810412Z",
     "shell.execute_reply.started": "2022-06-04T14:22:55.808464Z"
    }
   },
   "outputs": [
    {
     "data": {
      "text/plain": [
       "1.7796449661254883"
      ]
     },
     "execution_count": 35,
     "metadata": {},
     "output_type": "execute_result"
    }
   ],
   "source": [
    "ts = time.time()\n",
    "matrix = matrix[matrix.date_block_num > 11]\n",
    "time.time() - ts"
   ]
  },
  {
   "cell_type": "markdown",
   "metadata": {
    "_uuid": "48a14784050901f878b40f093e4bc34e07ecce05"
   },
   "source": [
    "Producing lags brings a lot of nulls."
   ]
  },
  {
   "cell_type": "code",
   "execution_count": 36,
   "metadata": {
    "_uuid": "8e5d8cb5cea9be28af4a0486cc1bf797e5b5c7ee",
    "execution": {
     "iopub.execute_input": "2022-06-04T14:22:57.812642Z",
     "iopub.status.busy": "2022-06-04T14:22:57.812384Z",
     "iopub.status.idle": "2022-06-04T14:23:07.015431Z",
     "shell.execute_reply": "2022-06-04T14:23:07.014626Z",
     "shell.execute_reply.started": "2022-06-04T14:22:57.812593Z"
    }
   },
   "outputs": [
    {
     "data": {
      "text/plain": [
       "8.661598205566406"
      ]
     },
     "execution_count": 36,
     "metadata": {},
     "output_type": "execute_result"
    }
   ],
   "source": [
    "ts = time.time()\n",
    "def fill_na(df):\n",
    "    for col in df.columns:\n",
    "        if ('_lag_' in col) & (df[col].isnull().any()):\n",
    "            if ('item_cnt' in col):\n",
    "                df[col].fillna(0, inplace=True)         \n",
    "    return df\n",
    "\n",
    "matrix = fill_na(matrix)\n",
    "time.time() - ts"
   ]
  },
  {
   "cell_type": "code",
   "execution_count": 37,
   "metadata": {
    "_uuid": "00bf3fffc1b143d0555d03b9d79b5fd00d9d0dc9",
    "execution": {
     "iopub.execute_input": "2022-06-04T14:23:07.016991Z",
     "iopub.status.busy": "2022-06-04T14:23:07.016635Z",
     "iopub.status.idle": "2022-06-04T14:23:07.022919Z",
     "shell.execute_reply": "2022-06-04T14:23:07.022112Z",
     "shell.execute_reply.started": "2022-06-04T14:23:07.016932Z"
    }
   },
   "outputs": [
    {
     "data": {
      "text/plain": [
       "Index(['date_block_num', 'shop_id', 'item_id', 'item_cnt_month', 'city_code',\n",
       "       'item_category_id', 'type_code', 'subtype_code', 'item_cnt_month_lag_1',\n",
       "       'item_cnt_month_lag_2', 'item_cnt_month_lag_3', 'item_cnt_month_lag_6',\n",
       "       'item_cnt_month_lag_12', 'date_avg_item_cnt_lag_1',\n",
       "       'date_item_avg_item_cnt_lag_1', 'date_item_avg_item_cnt_lag_2',\n",
       "       'date_item_avg_item_cnt_lag_3', 'date_item_avg_item_cnt_lag_6',\n",
       "       'date_item_avg_item_cnt_lag_12', 'date_shop_avg_item_cnt_lag_1',\n",
       "       'date_shop_avg_item_cnt_lag_2', 'date_shop_avg_item_cnt_lag_3',\n",
       "       'date_shop_avg_item_cnt_lag_6', 'date_shop_avg_item_cnt_lag_12',\n",
       "       'date_cat_avg_item_cnt_lag_1', 'date_shop_cat_avg_item_cnt_lag_1',\n",
       "       'date_shop_type_avg_item_cnt_lag_1',\n",
       "       'date_shop_subtype_avg_item_cnt_lag_1', 'date_city_avg_item_cnt_lag_1',\n",
       "       'date_item_city_avg_item_cnt_lag_1', 'date_type_avg_item_cnt_lag_1',\n",
       "       'date_subtype_avg_item_cnt_lag_1', 'delta_price_lag',\n",
       "       'delta_revenue_lag_1', 'month', 'days', 'item_shop_last_sale',\n",
       "       'item_last_sale', 'item_shop_first_sale', 'item_first_sale'],\n",
       "      dtype='object')"
      ]
     },
     "execution_count": 37,
     "metadata": {},
     "output_type": "execute_result"
    }
   ],
   "source": [
    "matrix.columns"
   ]
  },
  {
   "cell_type": "code",
   "execution_count": 38,
   "metadata": {
    "_uuid": "5f4e4c5c552daf8d4da6999ae4b63f13459b2887",
    "execution": {
     "iopub.execute_input": "2022-06-04T14:23:07.024491Z",
     "iopub.status.busy": "2022-06-04T14:23:07.024189Z",
     "iopub.status.idle": "2022-06-04T14:23:07.041850Z",
     "shell.execute_reply": "2022-06-04T14:23:07.040715Z",
     "shell.execute_reply.started": "2022-06-04T14:23:07.024435Z"
    }
   },
   "outputs": [
    {
     "name": "stdout",
     "output_type": "stream",
     "text": [
      "<class 'pandas.core.frame.DataFrame'>\n",
      "Int64Index: 6639294 entries, 4488710 to 11128003\n",
      "Data columns (total 40 columns):\n",
      "date_block_num                          int8\n",
      "shop_id                                 int8\n",
      "item_id                                 int16\n",
      "item_cnt_month                          float16\n",
      "city_code                               int8\n",
      "item_category_id                        int8\n",
      "type_code                               int8\n",
      "subtype_code                            int8\n",
      "item_cnt_month_lag_1                    float16\n",
      "item_cnt_month_lag_2                    float16\n",
      "item_cnt_month_lag_3                    float16\n",
      "item_cnt_month_lag_6                    float16\n",
      "item_cnt_month_lag_12                   float16\n",
      "date_avg_item_cnt_lag_1                 float16\n",
      "date_item_avg_item_cnt_lag_1            float16\n",
      "date_item_avg_item_cnt_lag_2            float16\n",
      "date_item_avg_item_cnt_lag_3            float16\n",
      "date_item_avg_item_cnt_lag_6            float16\n",
      "date_item_avg_item_cnt_lag_12           float16\n",
      "date_shop_avg_item_cnt_lag_1            float16\n",
      "date_shop_avg_item_cnt_lag_2            float16\n",
      "date_shop_avg_item_cnt_lag_3            float16\n",
      "date_shop_avg_item_cnt_lag_6            float16\n",
      "date_shop_avg_item_cnt_lag_12           float16\n",
      "date_cat_avg_item_cnt_lag_1             float16\n",
      "date_shop_cat_avg_item_cnt_lag_1        float16\n",
      "date_shop_type_avg_item_cnt_lag_1       float16\n",
      "date_shop_subtype_avg_item_cnt_lag_1    float16\n",
      "date_city_avg_item_cnt_lag_1            float16\n",
      "date_item_city_avg_item_cnt_lag_1       float16\n",
      "date_type_avg_item_cnt_lag_1            float16\n",
      "date_subtype_avg_item_cnt_lag_1         float16\n",
      "delta_price_lag                         float16\n",
      "delta_revenue_lag_1                     float16\n",
      "month                                   int8\n",
      "days                                    int8\n",
      "item_shop_last_sale                     int8\n",
      "item_last_sale                          int8\n",
      "item_shop_first_sale                    int8\n",
      "item_first_sale                         int8\n",
      "dtypes: float16(27), int16(1), int8(12)\n",
      "memory usage: 481.2 MB\n"
     ]
    }
   ],
   "source": [
    "matrix.info()"
   ]
  },
  {
   "cell_type": "code",
   "execution_count": 39,
   "metadata": {
    "_uuid": "5d9988f8da8876f74092fbf827ceb6c61dd09d5e",
    "execution": {
     "iopub.execute_input": "2022-06-04T14:23:07.043641Z",
     "iopub.status.busy": "2022-06-04T14:23:07.043203Z",
     "iopub.status.idle": "2022-06-04T14:23:09.161961Z",
     "shell.execute_reply": "2022-06-04T14:23:09.161261Z",
     "shell.execute_reply.started": "2022-06-04T14:23:07.043572Z"
    }
   },
   "outputs": [],
   "source": [
    "matrix.to_pickle('data.pkl')\n",
    "del matrix\n",
    "del cache\n",
    "del group\n",
    "del items\n",
    "del shops\n",
    "del cats\n",
    "del train\n",
    "# leave test for submission\n",
    "gc.collect();"
   ]
  },
  {
   "cell_type": "markdown",
   "metadata": {
    "_uuid": "b69932efb440af8f6435f3cd802fbcd15682af71"
   },
   "source": [
    "# Part 2, xgboost"
   ]
  },
  {
   "cell_type": "code",
   "execution_count": 40,
   "metadata": {
    "_uuid": "a54364495b1818e9f069efa0c53500bf9e21d5f9",
    "execution": {
     "iopub.execute_input": "2022-06-04T15:02:39.138005Z",
     "iopub.status.busy": "2022-06-04T15:02:39.137686Z",
     "iopub.status.idle": "2022-06-04T15:02:42.268724Z",
     "shell.execute_reply": "2022-06-04T15:02:42.267991Z",
     "shell.execute_reply.started": "2022-06-04T15:02:39.137967Z"
    }
   },
   "outputs": [],
   "source": [
    "data = pd.read_pickle('data.pkl')"
   ]
  },
  {
   "cell_type": "code",
   "execution_count": 41,
   "metadata": {
    "execution": {
     "iopub.execute_input": "2022-06-04T15:02:43.822229Z",
     "iopub.status.busy": "2022-06-04T15:02:43.821641Z",
     "iopub.status.idle": "2022-06-04T15:02:44.475310Z",
     "shell.execute_reply": "2022-06-04T15:02:44.474132Z",
     "shell.execute_reply.started": "2022-06-04T15:02:43.821924Z"
    }
   },
   "outputs": [
    {
     "name": "stdout",
     "output_type": "stream",
     "text": [
      "(6639294, 23)\n"
     ]
    }
   ],
   "source": [
    "data = data[[\n",
    "    'date_block_num',\n",
    "    'shop_id',\n",
    "    'item_id',\n",
    "    'item_cnt_month',\n",
    "    'city_code',\n",
    "    'item_category_id',\n",
    "    'type_code',\n",
    "    'subtype_code',\n",
    "    'item_cnt_month_lag_1',\n",
    "    #'item_cnt_month_lag_2',\n",
    "    #'item_cnt_month_lag_3',\n",
    "    #'item_cnt_month_lag_6',\n",
    "    #'item_cnt_month_lag_12',\n",
    "    'date_avg_item_cnt_lag_1',\n",
    "    'date_item_avg_item_cnt_lag_1',\n",
    "    #'date_item_avg_item_cnt_lag_2',\n",
    "    #'date_item_avg_item_cnt_lag_3',\n",
    "    #'date_item_avg_item_cnt_lag_6',\n",
    "    #'date_item_avg_item_cnt_lag_12',\n",
    "    'date_shop_avg_item_cnt_lag_1',\n",
    "    #'date_shop_avg_item_cnt_lag_2',\n",
    "    #'date_shop_avg_item_cnt_lag_3',\n",
    "    #'date_shop_avg_item_cnt_lag_6',\n",
    "    #'date_shop_avg_item_cnt_lag_12',\n",
    "    'date_cat_avg_item_cnt_lag_1',\n",
    "    'date_shop_cat_avg_item_cnt_lag_1',\n",
    "    #'date_shop_type_avg_item_cnt_lag_1',\n",
    "    #'date_shop_subtype_avg_item_cnt_lag_1',\n",
    "    'date_city_avg_item_cnt_lag_1',\n",
    "    'date_item_city_avg_item_cnt_lag_1',\n",
    "    #'date_type_avg_item_cnt_lag_1',\n",
    "    #'date_subtype_avg_item_cnt_lag_1',\n",
    "    'delta_price_lag',\n",
    "    'month',\n",
    "    'days',\n",
    "    'item_shop_last_sale',\n",
    "    'item_last_sale',\n",
    "    'item_shop_first_sale',\n",
    "    'item_first_sale',\n",
    "]]\n",
    "print(data.shape)"
   ]
  },
  {
   "cell_type": "code",
   "execution_count": 42,
   "metadata": {
    "execution": {
     "iopub.execute_input": "2022-06-04T15:02:47.920312Z",
     "iopub.status.busy": "2022-06-04T15:02:47.919740Z",
     "iopub.status.idle": "2022-06-04T15:02:50.004029Z",
     "shell.execute_reply": "2022-06-04T15:02:50.003084Z",
     "shell.execute_reply.started": "2022-06-04T15:02:47.920248Z"
    }
   },
   "outputs": [
    {
     "name": "stdout",
     "output_type": "stream",
     "text": [
      "(6186922, 22)\n",
      "(6186922,)\n",
      "(238172, 22)\n",
      "(214200, 22)\n"
     ]
    }
   ],
   "source": [
    "X_train = data[data.date_block_num < 33].drop(['item_cnt_month'], axis=1)\n",
    "Y_train = data[data.date_block_num < 33]['item_cnt_month']\n",
    "X_valid = data[data.date_block_num == 33].drop(['item_cnt_month'], axis=1)\n",
    "Y_valid = data[data.date_block_num == 33]['item_cnt_month']\n",
    "X_test = data[data.date_block_num == 34].drop(['item_cnt_month'], axis=1)\n",
    "print(X_train.shape)\n",
    "print(Y_train.shape)\n",
    "print(X_valid.shape)\n",
    "print(X_test.shape)"
   ]
  },
  {
   "cell_type": "code",
   "execution_count": 43,
   "metadata": {
    "execution": {
     "iopub.execute_input": "2022-06-04T15:02:54.055141Z",
     "iopub.status.busy": "2022-06-04T15:02:54.054843Z",
     "iopub.status.idle": "2022-06-04T15:02:54.193992Z",
     "shell.execute_reply": "2022-06-04T15:02:54.193114Z",
     "shell.execute_reply.started": "2022-06-04T15:02:54.055088Z"
    }
   },
   "outputs": [],
   "source": [
    "del data\n",
    "gc.collect();"
   ]
  },
  {
   "cell_type": "code",
   "execution_count": 44,
   "metadata": {
    "execution": {
     "iopub.execute_input": "2022-06-04T15:03:03.688995Z",
     "iopub.status.busy": "2022-06-04T15:03:03.688523Z",
     "iopub.status.idle": "2022-06-04T15:16:05.772456Z",
     "shell.execute_reply": "2022-06-04T15:16:05.771635Z",
     "shell.execute_reply.started": "2022-06-04T15:03:03.688769Z"
    }
   },
   "outputs": [
    {
     "name": "stdout",
     "output_type": "stream",
     "text": [
      "[0]\tvalidation_0-rmse:1.15365\tvalidation_1-rmse:1.12071\n",
      "Multiple eval metrics have been passed: 'validation_1-rmse' will be used for early stopping.\n",
      "\n",
      "Will train until validation_1-rmse hasn't improved in 10 rounds.\n",
      "[1]\tvalidation_0-rmse:1.10759\tvalidation_1-rmse:1.08416\n",
      "[2]\tvalidation_0-rmse:1.06977\tvalidation_1-rmse:1.05622\n",
      "[3]\tvalidation_0-rmse:1.03477\tvalidation_1-rmse:1.02965\n",
      "[4]\tvalidation_0-rmse:1.0054\tvalidation_1-rmse:1.00781\n",
      "[5]\tvalidation_0-rmse:0.9821\tvalidation_1-rmse:0.992703\n",
      "[6]\tvalidation_0-rmse:0.961008\tvalidation_1-rmse:0.97766\n",
      "[7]\tvalidation_0-rmse:0.942845\tvalidation_1-rmse:0.965613\n",
      "[8]\tvalidation_0-rmse:0.928536\tvalidation_1-rmse:0.954964\n",
      "[9]\tvalidation_0-rmse:0.916807\tvalidation_1-rmse:0.948884\n",
      "[10]\tvalidation_0-rmse:0.905849\tvalidation_1-rmse:0.942535\n",
      "[11]\tvalidation_0-rmse:0.89585\tvalidation_1-rmse:0.936123\n",
      "[12]\tvalidation_0-rmse:0.887352\tvalidation_1-rmse:0.930512\n",
      "[13]\tvalidation_0-rmse:0.879597\tvalidation_1-rmse:0.926231\n",
      "[14]\tvalidation_0-rmse:0.873401\tvalidation_1-rmse:0.923745\n",
      "[15]\tvalidation_0-rmse:0.868205\tvalidation_1-rmse:0.921505\n",
      "[16]\tvalidation_0-rmse:0.86391\tvalidation_1-rmse:0.919801\n",
      "[17]\tvalidation_0-rmse:0.859483\tvalidation_1-rmse:0.918009\n",
      "[18]\tvalidation_0-rmse:0.85619\tvalidation_1-rmse:0.917014\n",
      "[19]\tvalidation_0-rmse:0.852987\tvalidation_1-rmse:0.915529\n",
      "[20]\tvalidation_0-rmse:0.849563\tvalidation_1-rmse:0.91504\n",
      "[21]\tvalidation_0-rmse:0.847169\tvalidation_1-rmse:0.914569\n",
      "[22]\tvalidation_0-rmse:0.844893\tvalidation_1-rmse:0.914478\n",
      "[23]\tvalidation_0-rmse:0.841823\tvalidation_1-rmse:0.914958\n",
      "[24]\tvalidation_0-rmse:0.839929\tvalidation_1-rmse:0.91465\n",
      "[25]\tvalidation_0-rmse:0.838556\tvalidation_1-rmse:0.914672\n",
      "[26]\tvalidation_0-rmse:0.836733\tvalidation_1-rmse:0.914485\n",
      "[27]\tvalidation_0-rmse:0.834953\tvalidation_1-rmse:0.9146\n",
      "[28]\tvalidation_0-rmse:0.833297\tvalidation_1-rmse:0.914753\n",
      "[29]\tvalidation_0-rmse:0.831921\tvalidation_1-rmse:0.91456\n",
      "[30]\tvalidation_0-rmse:0.830616\tvalidation_1-rmse:0.914942\n",
      "[31]\tvalidation_0-rmse:0.829336\tvalidation_1-rmse:0.914995\n",
      "[32]\tvalidation_0-rmse:0.828317\tvalidation_1-rmse:0.915205\n",
      "Stopping. Best iteration:\n",
      "[22]\tvalidation_0-rmse:0.844893\tvalidation_1-rmse:0.914478\n",
      "\n"
     ]
    },
    {
     "data": {
      "text/plain": [
       "785.6248075962067"
      ]
     },
     "execution_count": 44,
     "metadata": {},
     "output_type": "execute_result"
    }
   ],
   "source": [
    "ts = time.time()\n",
    "\n",
    "model = XGBRegressor(\n",
    "    max_depth=8,\n",
    "    n_estimators=1000,\n",
    "    min_child_weight=300, \n",
    "    colsample_bytree=0.8, \n",
    "    subsample=0.8, \n",
    "    eta=0.3,    \n",
    "    seed=42)\n",
    "\n",
    "model.fit(\n",
    "    X_train, \n",
    "    Y_train, \n",
    "    eval_metric=\"rmse\", \n",
    "    eval_set=[(X_train, Y_train), (X_valid, Y_valid)], \n",
    "    verbose=True, \n",
    "    early_stopping_rounds = 10)\n",
    "\n",
    "time.time() - ts"
   ]
  },
  {
   "cell_type": "code",
   "execution_count": 45,
   "metadata": {
    "execution": {
     "iopub.execute_input": "2022-06-04T14:55:35.936335Z",
     "iopub.status.busy": "2022-06-04T14:55:35.935968Z",
     "iopub.status.idle": "2022-06-04T14:55:38.277932Z",
     "shell.execute_reply": "2022-06-04T14:55:38.277171Z",
     "shell.execute_reply.started": "2022-06-04T14:55:35.936254Z"
    }
   },
   "outputs": [],
   "source": [
    "Y_pred = model.predict(X_valid).clip(0, 20)\n",
    "Y_test = model.predict(X_test).clip(0, 20)\n",
    "\n",
    "submission = pd.DataFrame({\n",
    "    \"ID\": test.index, \n",
    "    \"item_cnt_month\": Y_test\n",
    "})\n",
    "submission.to_csv('xgb_submission.csv', index=False)\n",
    "\n",
    "# save predictions for an ensemble\n",
    "pickle.dump(Y_pred, open('xgb_train.pickle', 'wb'))\n",
    "pickle.dump(Y_test, open('xgb_test.pickle', 'wb'))"
   ]
  },
  {
   "cell_type": "code",
   "execution_count": 46,
   "metadata": {
    "execution": {
     "iopub.execute_input": "2022-06-04T14:55:38.279830Z",
     "iopub.status.busy": "2022-06-04T14:55:38.279424Z",
     "iopub.status.idle": "2022-06-04T14:55:38.870921Z",
     "shell.execute_reply": "2022-06-04T14:55:38.870251Z",
     "shell.execute_reply.started": "2022-06-04T14:55:38.279764Z"
    }
   },
   "outputs": [
    {
     "data": {
      "text/plain": [
       "<matplotlib.axes._subplots.AxesSubplot at 0x7f479804d278>"
      ]
     },
     "execution_count": 46,
     "metadata": {},
     "output_type": "execute_result"
    },
    {
     "data": {
      "image/png": "[encoded data removed]",
      "text/plain": [
       "<matplotlib.figure.Figure at 0x7f47a2a602b0>"
      ]
     },
     "metadata": {},
     "output_type": "display_data"
    }
   ],
   "source": [
    "plot_features(model, (10,14))"
   ]
  }
 ],
 "metadata": {
  "kernelspec": {
   "display_name": "Python 3",
   "language": "python",
   "name": "python3"
  },
  "language_info": {
   "codemirror_mode": {
    "name": "ipython",
    "version": 3
   },
   "file_extension": ".py",
   "mimetype": "text/x-python",
   "name": "python",
   "nbconvert_exporter": "python",
   "pygments_lexer": "ipython3",
   "version": "3.6.4"
  }
 },
 "nbformat": 4,
 "nbformat_minor": 4
}
